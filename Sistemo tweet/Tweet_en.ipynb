{
  "nbformat": 4,
  "nbformat_minor": 0,
  "metadata": {
    "colab": {
      "name": "Tweet_en.ipynb",
      "provenance": [],
      "toc_visible": true
    },
    "kernelspec": {
      "name": "python3",
      "display_name": "Python 3"
    }
  },
  "cells": [
    {
      "cell_type": "markdown",
      "metadata": {
        "id": "sQf_JBy_w5Dn",
        "colab_type": "text"
      },
      "source": [
        "## TWEET INGLESI LDCP"
      ]
    },
    {
      "cell_type": "code",
      "metadata": {
        "id": "-KJmAk1Jw8Wu",
        "colab_type": "code",
        "colab": {}
      },
      "source": [
        "import pandas as pd"
      ],
      "execution_count": 0,
      "outputs": []
    },
    {
      "cell_type": "code",
      "metadata": {
        "id": "4Fx6NwMUxXdG",
        "colab_type": "code",
        "colab": {}
      },
      "source": [
        "df = pd.read_csv(\"en.csv\")"
      ],
      "execution_count": 0,
      "outputs": []
    },
    {
      "cell_type": "code",
      "metadata": {
        "id": "BsfZsPaUxbhE",
        "colab_type": "code",
        "colab": {
          "base_uri": "https://localhost:8080/",
          "height": 34
        },
        "outputId": "ce76721c-1fca-4d46-c37a-0b91a98f3672"
      },
      "source": [
        "df.shape"
      ],
      "execution_count": 4,
      "outputs": [
        {
          "output_type": "execute_result",
          "data": {
            "text/plain": [
              "(11225, 90)"
            ]
          },
          "metadata": {
            "tags": []
          },
          "execution_count": 4
        }
      ]
    },
    {
      "cell_type": "code",
      "metadata": {
        "id": "5javMtqcxc28",
        "colab_type": "code",
        "colab": {}
      },
      "source": [
        "indexNames = df[df.created_at.str.contains('2020-04-09')].index"
      ],
      "execution_count": 0,
      "outputs": []
    },
    {
      "cell_type": "code",
      "metadata": {
        "id": "Yn-xwWTzxeKw",
        "colab_type": "code",
        "colab": {}
      },
      "source": [
        "df = df.drop(indexNames)"
      ],
      "execution_count": 0,
      "outputs": []
    },
    {
      "cell_type": "code",
      "metadata": {
        "id": "tCIdIg0zxi1k",
        "colab_type": "code",
        "colab": {
          "base_uri": "https://localhost:8080/",
          "height": 34
        },
        "outputId": "3a768d71-f93b-4805-db7a-8237ca0bfd9e"
      },
      "source": [
        "#tweet dal 01-04-2020 al 08-04-2020\n",
        "df.shape"
      ],
      "execution_count": 7,
      "outputs": [
        {
          "output_type": "execute_result",
          "data": {
            "text/plain": [
              "(10989, 90)"
            ]
          },
          "metadata": {
            "tags": []
          },
          "execution_count": 7
        }
      ]
    },
    {
      "cell_type": "markdown",
      "metadata": {
        "id": "LzRkf-HFxkws",
        "colab_type": "text"
      },
      "source": [
        "**en_0409.csv**"
      ]
    },
    {
      "cell_type": "code",
      "metadata": {
        "id": "4e-IuEHgxp7b",
        "colab_type": "code",
        "colab": {}
      },
      "source": [
        "df1 = pd.read_csv(\"en_0409.csv\")"
      ],
      "execution_count": 0,
      "outputs": []
    },
    {
      "cell_type": "code",
      "metadata": {
        "id": "smmPhELGxttt",
        "colab_type": "code",
        "colab": {
          "base_uri": "https://localhost:8080/",
          "height": 34
        },
        "outputId": "524d02ec-4311-479f-dc04-2c409bb87afd"
      },
      "source": [
        "df1.shape"
      ],
      "execution_count": 9,
      "outputs": [
        {
          "output_type": "execute_result",
          "data": {
            "text/plain": [
              "(476, 90)"
            ]
          },
          "metadata": {
            "tags": []
          },
          "execution_count": 9
        }
      ]
    },
    {
      "cell_type": "code",
      "metadata": {
        "id": "n1-j-yMGxxT5",
        "colab_type": "code",
        "colab": {}
      },
      "source": [
        "df2 = pd.concat([df, df1], axis=0, join='outer', ignore_index=False, keys=None,\n",
        "          levels=None, names=None, verify_integrity=False, copy=True)"
      ],
      "execution_count": 0,
      "outputs": []
    },
    {
      "cell_type": "code",
      "metadata": {
        "id": "nsabWPUXxzQP",
        "colab_type": "code",
        "colab": {
          "base_uri": "https://localhost:8080/",
          "height": 34
        },
        "outputId": "3af4cc83-84a6-4eeb-dfbc-a04d1b8eb557"
      },
      "source": [
        "df2.shape"
      ],
      "execution_count": 11,
      "outputs": [
        {
          "output_type": "execute_result",
          "data": {
            "text/plain": [
              "(11465, 90)"
            ]
          },
          "metadata": {
            "tags": []
          },
          "execution_count": 11
        }
      ]
    },
    {
      "cell_type": "markdown",
      "metadata": {
        "id": "Jme_1wjwx3mw",
        "colab_type": "text"
      },
      "source": [
        "**en_0410.csv**"
      ]
    },
    {
      "cell_type": "code",
      "metadata": {
        "id": "s8o20lfix6Nj",
        "colab_type": "code",
        "colab": {}
      },
      "source": [
        "df3 = pd.read_csv(\"en_0410.csv\")"
      ],
      "execution_count": 0,
      "outputs": []
    },
    {
      "cell_type": "code",
      "metadata": {
        "id": "QKflWyp6x-MQ",
        "colab_type": "code",
        "colab": {
          "base_uri": "https://localhost:8080/",
          "height": 34
        },
        "outputId": "778a8440-8946-48ca-d122-e88a218d8f69"
      },
      "source": [
        "df3.shape"
      ],
      "execution_count": 14,
      "outputs": [
        {
          "output_type": "execute_result",
          "data": {
            "text/plain": [
              "(458, 90)"
            ]
          },
          "metadata": {
            "tags": []
          },
          "execution_count": 14
        }
      ]
    },
    {
      "cell_type": "code",
      "metadata": {
        "id": "0EFHrEIgyAlh",
        "colab_type": "code",
        "colab": {}
      },
      "source": [
        "df4 = pd.concat([df2, df3], axis=0, join='outer', ignore_index=False, keys=None,\n",
        "          levels=None, names=None, verify_integrity=False, copy=True)"
      ],
      "execution_count": 0,
      "outputs": []
    },
    {
      "cell_type": "code",
      "metadata": {
        "id": "Zletq19byCTi",
        "colab_type": "code",
        "colab": {
          "base_uri": "https://localhost:8080/",
          "height": 34
        },
        "outputId": "12ea4d48-8761-43c6-a6c3-8358df47db3e"
      },
      "source": [
        "df4.shape"
      ],
      "execution_count": 16,
      "outputs": [
        {
          "output_type": "execute_result",
          "data": {
            "text/plain": [
              "(11923, 90)"
            ]
          },
          "metadata": {
            "tags": []
          },
          "execution_count": 16
        }
      ]
    },
    {
      "cell_type": "markdown",
      "metadata": {
        "id": "vaCTe4YHyG0Y",
        "colab_type": "text"
      },
      "source": [
        "**en_0411.csv**"
      ]
    },
    {
      "cell_type": "code",
      "metadata": {
        "id": "Qr2pFhHQyKhH",
        "colab_type": "code",
        "colab": {}
      },
      "source": [
        "df5 = pd.read_csv(\"en_0411.csv\")"
      ],
      "execution_count": 0,
      "outputs": []
    },
    {
      "cell_type": "code",
      "metadata": {
        "id": "7Zrqav7vyNdd",
        "colab_type": "code",
        "colab": {
          "base_uri": "https://localhost:8080/",
          "height": 34
        },
        "outputId": "95ed5ad5-a883-4322-9a46-ea4b537b7d81"
      },
      "source": [
        "df5.shape"
      ],
      "execution_count": 19,
      "outputs": [
        {
          "output_type": "execute_result",
          "data": {
            "text/plain": [
              "(397, 90)"
            ]
          },
          "metadata": {
            "tags": []
          },
          "execution_count": 19
        }
      ]
    },
    {
      "cell_type": "code",
      "metadata": {
        "id": "VObJhhnJyPTK",
        "colab_type": "code",
        "colab": {}
      },
      "source": [
        "df6 = pd.concat([df4, df5], axis=0, join='outer', ignore_index=False, keys=None,\n",
        "          levels=None, names=None, verify_integrity=False, copy=True)"
      ],
      "execution_count": 0,
      "outputs": []
    },
    {
      "cell_type": "code",
      "metadata": {
        "id": "CwkDvvsQyRCy",
        "colab_type": "code",
        "colab": {
          "base_uri": "https://localhost:8080/",
          "height": 34
        },
        "outputId": "70f863a8-208f-4a2f-d32c-e8d0caeb330e"
      },
      "source": [
        "df6.shape"
      ],
      "execution_count": 21,
      "outputs": [
        {
          "output_type": "execute_result",
          "data": {
            "text/plain": [
              "(12320, 90)"
            ]
          },
          "metadata": {
            "tags": []
          },
          "execution_count": 21
        }
      ]
    },
    {
      "cell_type": "markdown",
      "metadata": {
        "id": "5AVcPMPuyU3w",
        "colab_type": "text"
      },
      "source": [
        "**en_0412.csv**"
      ]
    },
    {
      "cell_type": "code",
      "metadata": {
        "id": "TfhY73B_yYus",
        "colab_type": "code",
        "colab": {}
      },
      "source": [
        "df7 = pd.read_csv(\"en_0412.csv\")"
      ],
      "execution_count": 0,
      "outputs": []
    },
    {
      "cell_type": "code",
      "metadata": {
        "id": "fIvjO6j4ybOi",
        "colab_type": "code",
        "colab": {
          "base_uri": "https://localhost:8080/",
          "height": 34
        },
        "outputId": "a4952e21-54e5-4813-e9d5-62af81da6efa"
      },
      "source": [
        "df7.shape"
      ],
      "execution_count": 24,
      "outputs": [
        {
          "output_type": "execute_result",
          "data": {
            "text/plain": [
              "(472, 90)"
            ]
          },
          "metadata": {
            "tags": []
          },
          "execution_count": 24
        }
      ]
    },
    {
      "cell_type": "code",
      "metadata": {
        "id": "cye1_2KrydGB",
        "colab_type": "code",
        "colab": {}
      },
      "source": [
        "df8 = pd.concat([df6, df7], axis=0, join='outer', ignore_index=False, keys=None,\n",
        "          levels=None, names=None, verify_integrity=False, copy=True)"
      ],
      "execution_count": 0,
      "outputs": []
    },
    {
      "cell_type": "code",
      "metadata": {
        "id": "RaRiVAoqye7y",
        "colab_type": "code",
        "colab": {
          "base_uri": "https://localhost:8080/",
          "height": 34
        },
        "outputId": "4288cb8b-e5ac-496a-8489-05014719ef29"
      },
      "source": [
        "df8.shape"
      ],
      "execution_count": 26,
      "outputs": [
        {
          "output_type": "execute_result",
          "data": {
            "text/plain": [
              "(12792, 90)"
            ]
          },
          "metadata": {
            "tags": []
          },
          "execution_count": 26
        }
      ]
    },
    {
      "cell_type": "markdown",
      "metadata": {
        "id": "QQ5KEsVuyi1L",
        "colab_type": "text"
      },
      "source": [
        "**en_0413.csv**"
      ]
    },
    {
      "cell_type": "code",
      "metadata": {
        "id": "mZGvivO4yk75",
        "colab_type": "code",
        "colab": {}
      },
      "source": [
        "df9 = pd.read_csv(\"en_0413.csv\")"
      ],
      "execution_count": 0,
      "outputs": []
    },
    {
      "cell_type": "code",
      "metadata": {
        "id": "4iwTHDA3yoql",
        "colab_type": "code",
        "colab": {
          "base_uri": "https://localhost:8080/",
          "height": 34
        },
        "outputId": "a1d202ea-bf7d-4130-c95f-53c954c52293"
      },
      "source": [
        "df9.shape"
      ],
      "execution_count": 29,
      "outputs": [
        {
          "output_type": "execute_result",
          "data": {
            "text/plain": [
              "(445, 90)"
            ]
          },
          "metadata": {
            "tags": []
          },
          "execution_count": 29
        }
      ]
    },
    {
      "cell_type": "code",
      "metadata": {
        "id": "TnNNerpEyqnt",
        "colab_type": "code",
        "colab": {}
      },
      "source": [
        "df10 = pd.concat([df8, df9], axis=0, join='outer', ignore_index=False, keys=None,\n",
        "          levels=None, names=None, verify_integrity=False, copy=True)"
      ],
      "execution_count": 0,
      "outputs": []
    },
    {
      "cell_type": "code",
      "metadata": {
        "id": "oaBi8Ayqys-z",
        "colab_type": "code",
        "colab": {
          "base_uri": "https://localhost:8080/",
          "height": 34
        },
        "outputId": "34c5dd75-232f-4349-b701-e340df72e2b8"
      },
      "source": [
        "df10.shape"
      ],
      "execution_count": 31,
      "outputs": [
        {
          "output_type": "execute_result",
          "data": {
            "text/plain": [
              "(13237, 90)"
            ]
          },
          "metadata": {
            "tags": []
          },
          "execution_count": 31
        }
      ]
    },
    {
      "cell_type": "markdown",
      "metadata": {
        "id": "K5APb_BKywxp",
        "colab_type": "text"
      },
      "source": [
        "**en_0414.csv**"
      ]
    },
    {
      "cell_type": "code",
      "metadata": {
        "id": "0jU_4d3qyzSb",
        "colab_type": "code",
        "colab": {}
      },
      "source": [
        "df11 = pd.read_csv(\"en_0414.csv\")"
      ],
      "execution_count": 0,
      "outputs": []
    },
    {
      "cell_type": "code",
      "metadata": {
        "id": "_dKpEhEky2xJ",
        "colab_type": "code",
        "colab": {
          "base_uri": "https://localhost:8080/",
          "height": 34
        },
        "outputId": "c8c899b7-26e0-4614-ffff-e5a59eb1b4c5"
      },
      "source": [
        "df11.shape"
      ],
      "execution_count": 34,
      "outputs": [
        {
          "output_type": "execute_result",
          "data": {
            "text/plain": [
              "(344, 90)"
            ]
          },
          "metadata": {
            "tags": []
          },
          "execution_count": 34
        }
      ]
    },
    {
      "cell_type": "code",
      "metadata": {
        "id": "33P1sSgay49f",
        "colab_type": "code",
        "colab": {}
      },
      "source": [
        "df12 = pd.concat([df10, df11], axis=0, join='outer', ignore_index=False, keys=None,\n",
        "          levels=None, names=None, verify_integrity=False, copy=True)"
      ],
      "execution_count": 0,
      "outputs": []
    },
    {
      "cell_type": "code",
      "metadata": {
        "id": "OU-bXNPuy7Qf",
        "colab_type": "code",
        "colab": {
          "base_uri": "https://localhost:8080/",
          "height": 34
        },
        "outputId": "cd16cff8-1fad-457e-cb63-72f486fb2b51"
      },
      "source": [
        "df12.shape"
      ],
      "execution_count": 36,
      "outputs": [
        {
          "output_type": "execute_result",
          "data": {
            "text/plain": [
              "(13581, 90)"
            ]
          },
          "metadata": {
            "tags": []
          },
          "execution_count": 36
        }
      ]
    },
    {
      "cell_type": "markdown",
      "metadata": {
        "id": "55kSfIoMy_om",
        "colab_type": "text"
      },
      "source": [
        "**en_0415.csv**"
      ]
    },
    {
      "cell_type": "code",
      "metadata": {
        "id": "ReCEdtnozCb5",
        "colab_type": "code",
        "colab": {}
      },
      "source": [
        "df13 = pd.read_csv(\"en_0415.csv\")"
      ],
      "execution_count": 0,
      "outputs": []
    },
    {
      "cell_type": "code",
      "metadata": {
        "id": "kJ-nzE_vzI7k",
        "colab_type": "code",
        "colab": {
          "base_uri": "https://localhost:8080/",
          "height": 34
        },
        "outputId": "cca427f8-7cb7-455e-e004-da7548ffbed4"
      },
      "source": [
        "df13.shape"
      ],
      "execution_count": 40,
      "outputs": [
        {
          "output_type": "execute_result",
          "data": {
            "text/plain": [
              "(325, 90)"
            ]
          },
          "metadata": {
            "tags": []
          },
          "execution_count": 40
        }
      ]
    },
    {
      "cell_type": "code",
      "metadata": {
        "id": "GtzoZw0nzL8d",
        "colab_type": "code",
        "colab": {}
      },
      "source": [
        "df14 = pd.concat([df12, df13], axis=0, join='outer', ignore_index=False, keys=None,\n",
        "          levels=None, names=None, verify_integrity=False, copy=True)"
      ],
      "execution_count": 0,
      "outputs": []
    },
    {
      "cell_type": "code",
      "metadata": {
        "id": "5nC1KpFYzN_q",
        "colab_type": "code",
        "colab": {
          "base_uri": "https://localhost:8080/",
          "height": 34
        },
        "outputId": "fdd3358e-9e5d-4c33-a132-6e2b4deeca37"
      },
      "source": [
        "df14.shape"
      ],
      "execution_count": 42,
      "outputs": [
        {
          "output_type": "execute_result",
          "data": {
            "text/plain": [
              "(13906, 90)"
            ]
          },
          "metadata": {
            "tags": []
          },
          "execution_count": 42
        }
      ]
    },
    {
      "cell_type": "markdown",
      "metadata": {
        "id": "OFrv65X-zRvy",
        "colab_type": "text"
      },
      "source": [
        "**en_0416.csv**"
      ]
    },
    {
      "cell_type": "code",
      "metadata": {
        "id": "Sgkk07BBzTtS",
        "colab_type": "code",
        "colab": {}
      },
      "source": [
        "df15 = pd.read_csv(\"en_0416.csv\")"
      ],
      "execution_count": 0,
      "outputs": []
    },
    {
      "cell_type": "code",
      "metadata": {
        "id": "acQRsB9NzXQn",
        "colab_type": "code",
        "colab": {
          "base_uri": "https://localhost:8080/",
          "height": 34
        },
        "outputId": "5d8e42db-dbd3-443e-f9b5-504dfdccea07"
      },
      "source": [
        "df15.shape"
      ],
      "execution_count": 45,
      "outputs": [
        {
          "output_type": "execute_result",
          "data": {
            "text/plain": [
              "(284, 90)"
            ]
          },
          "metadata": {
            "tags": []
          },
          "execution_count": 45
        }
      ]
    },
    {
      "cell_type": "code",
      "metadata": {
        "id": "sWfI2BRgzZlh",
        "colab_type": "code",
        "colab": {}
      },
      "source": [
        "df16 = pd.concat([df14, df15], axis=0, join='outer', ignore_index=False, keys=None,\n",
        "          levels=None, names=None, verify_integrity=False, copy=True)"
      ],
      "execution_count": 0,
      "outputs": []
    },
    {
      "cell_type": "code",
      "metadata": {
        "id": "irNsmQQGzbi-",
        "colab_type": "code",
        "colab": {
          "base_uri": "https://localhost:8080/",
          "height": 34
        },
        "outputId": "0c212cfe-575f-4628-f3b1-b4a43bdf42a5"
      },
      "source": [
        "df16.shape"
      ],
      "execution_count": 47,
      "outputs": [
        {
          "output_type": "execute_result",
          "data": {
            "text/plain": [
              "(14190, 90)"
            ]
          },
          "metadata": {
            "tags": []
          },
          "execution_count": 47
        }
      ]
    },
    {
      "cell_type": "markdown",
      "metadata": {
        "id": "Gt1Uy8Kxzf3k",
        "colab_type": "text"
      },
      "source": [
        "**en_1722.csv**"
      ]
    },
    {
      "cell_type": "code",
      "metadata": {
        "id": "KneuVfIOzh8f",
        "colab_type": "code",
        "colab": {}
      },
      "source": [
        "df17 = pd.read_csv(\"en_1722.csv\")"
      ],
      "execution_count": 0,
      "outputs": []
    },
    {
      "cell_type": "code",
      "metadata": {
        "id": "X146fv9jzmhQ",
        "colab_type": "code",
        "colab": {
          "base_uri": "https://localhost:8080/",
          "height": 34
        },
        "outputId": "e159dbb1-fdcb-4174-c80a-f87dbc5d2d23"
      },
      "source": [
        "df17.shape"
      ],
      "execution_count": 50,
      "outputs": [
        {
          "output_type": "execute_result",
          "data": {
            "text/plain": [
              "(1108, 90)"
            ]
          },
          "metadata": {
            "tags": []
          },
          "execution_count": 50
        }
      ]
    },
    {
      "cell_type": "code",
      "metadata": {
        "id": "GMd9Km-Azo1Q",
        "colab_type": "code",
        "colab": {}
      },
      "source": [
        "tweet_en = pd.concat([df16, df17], axis=0, join='outer', ignore_index=False, keys=None,\n",
        "          levels=None, names=None, verify_integrity=False, copy=True)"
      ],
      "execution_count": 0,
      "outputs": []
    },
    {
      "cell_type": "code",
      "metadata": {
        "id": "YTvxxmuNzryY",
        "colab_type": "code",
        "colab": {
          "base_uri": "https://localhost:8080/",
          "height": 34
        },
        "outputId": "fce577ee-5c8a-4395-ed1e-630e5495b7c6"
      },
      "source": [
        "tweet_en.shape"
      ],
      "execution_count": 54,
      "outputs": [
        {
          "output_type": "execute_result",
          "data": {
            "text/plain": [
              "(15298, 90)"
            ]
          },
          "metadata": {
            "tags": []
          },
          "execution_count": 54
        }
      ]
    },
    {
      "cell_type": "code",
      "metadata": {
        "id": "YZSKTC3ez0eg",
        "colab_type": "code",
        "colab": {}
      },
      "source": [
        "tweet_en = tweet_en.reset_index(drop=True)"
      ],
      "execution_count": 0,
      "outputs": []
    },
    {
      "cell_type": "code",
      "metadata": {
        "id": "1Ug0M_rOz4Ev",
        "colab_type": "code",
        "colab": {
          "base_uri": "https://localhost:8080/",
          "height": 34
        },
        "outputId": "4bbad45f-7526-465b-e5d7-2361e16c0395"
      },
      "source": [
        "tweet_en.shape"
      ],
      "execution_count": 57,
      "outputs": [
        {
          "output_type": "execute_result",
          "data": {
            "text/plain": [
              "(15298, 90)"
            ]
          },
          "metadata": {
            "tags": []
          },
          "execution_count": 57
        }
      ]
    },
    {
      "cell_type": "code",
      "metadata": {
        "id": "1OPe2PV2z5xq",
        "colab_type": "code",
        "colab": {
          "base_uri": "https://localhost:8080/",
          "height": 508
        },
        "outputId": "cb3bb118-dd1e-4d79-ef49-82d9af5e3320"
      },
      "source": [
        "tweet_en.tail()"
      ],
      "execution_count": 58,
      "outputs": [
        {
          "output_type": "execute_result",
          "data": {
            "text/html": [
              "<div>\n",
              "<style scoped>\n",
              "    .dataframe tbody tr th:only-of-type {\n",
              "        vertical-align: middle;\n",
              "    }\n",
              "\n",
              "    .dataframe tbody tr th {\n",
              "        vertical-align: top;\n",
              "    }\n",
              "\n",
              "    .dataframe thead th {\n",
              "        text-align: right;\n",
              "    }\n",
              "</style>\n",
              "<table border=\"1\" class=\"dataframe\">\n",
              "  <thead>\n",
              "    <tr style=\"text-align: right;\">\n",
              "      <th></th>\n",
              "      <th>user_id</th>\n",
              "      <th>status_id</th>\n",
              "      <th>created_at</th>\n",
              "      <th>screen_name</th>\n",
              "      <th>text</th>\n",
              "      <th>source</th>\n",
              "      <th>display_text_width</th>\n",
              "      <th>reply_to_status_id</th>\n",
              "      <th>reply_to_user_id</th>\n",
              "      <th>reply_to_screen_name</th>\n",
              "      <th>is_quote</th>\n",
              "      <th>is_retweet</th>\n",
              "      <th>favorite_count</th>\n",
              "      <th>retweet_count</th>\n",
              "      <th>quote_count</th>\n",
              "      <th>reply_count</th>\n",
              "      <th>hashtags</th>\n",
              "      <th>symbols</th>\n",
              "      <th>urls_url</th>\n",
              "      <th>urls_t.co</th>\n",
              "      <th>urls_expanded_url</th>\n",
              "      <th>media_url</th>\n",
              "      <th>media_t.co</th>\n",
              "      <th>media_expanded_url</th>\n",
              "      <th>media_type</th>\n",
              "      <th>ext_media_url</th>\n",
              "      <th>ext_media_t.co</th>\n",
              "      <th>ext_media_expanded_url</th>\n",
              "      <th>ext_media_type</th>\n",
              "      <th>mentions_user_id</th>\n",
              "      <th>mentions_screen_name</th>\n",
              "      <th>lang</th>\n",
              "      <th>quoted_status_id</th>\n",
              "      <th>quoted_text</th>\n",
              "      <th>quoted_created_at</th>\n",
              "      <th>quoted_source</th>\n",
              "      <th>quoted_favorite_count</th>\n",
              "      <th>quoted_retweet_count</th>\n",
              "      <th>quoted_user_id</th>\n",
              "      <th>quoted_screen_name</th>\n",
              "      <th>...</th>\n",
              "      <th>retweet_source</th>\n",
              "      <th>retweet_favorite_count</th>\n",
              "      <th>retweet_retweet_count</th>\n",
              "      <th>retweet_user_id</th>\n",
              "      <th>retweet_screen_name</th>\n",
              "      <th>retweet_name</th>\n",
              "      <th>retweet_followers_count</th>\n",
              "      <th>retweet_friends_count</th>\n",
              "      <th>retweet_statuses_count</th>\n",
              "      <th>retweet_location</th>\n",
              "      <th>retweet_description</th>\n",
              "      <th>retweet_verified</th>\n",
              "      <th>place_url</th>\n",
              "      <th>place_name</th>\n",
              "      <th>place_full_name</th>\n",
              "      <th>place_type</th>\n",
              "      <th>country</th>\n",
              "      <th>country_code</th>\n",
              "      <th>geo_coords</th>\n",
              "      <th>coords_coords</th>\n",
              "      <th>bbox_coords</th>\n",
              "      <th>status_url</th>\n",
              "      <th>name</th>\n",
              "      <th>location</th>\n",
              "      <th>description</th>\n",
              "      <th>url</th>\n",
              "      <th>protected</th>\n",
              "      <th>followers_count</th>\n",
              "      <th>friends_count</th>\n",
              "      <th>listed_count</th>\n",
              "      <th>statuses_count</th>\n",
              "      <th>favourites_count</th>\n",
              "      <th>account_created_at</th>\n",
              "      <th>verified</th>\n",
              "      <th>profile_url</th>\n",
              "      <th>profile_expanded_url</th>\n",
              "      <th>account_lang</th>\n",
              "      <th>profile_banner_url</th>\n",
              "      <th>profile_background_url</th>\n",
              "      <th>profile_image_url</th>\n",
              "    </tr>\n",
              "  </thead>\n",
              "  <tbody>\n",
              "    <tr>\n",
              "      <th>15293</th>\n",
              "      <td>x1399481156</td>\n",
              "      <td>x1250956433463619587</td>\n",
              "      <td>2020-04-17 01:17:10</td>\n",
              "      <td>El_Profesor_12</td>\n",
              "      <td>When you finish a new episode of #LaCasaDePape...</td>\n",
              "      <td>Twitter for Android</td>\n",
              "      <td>49</td>\n",
              "      <td>NaN</td>\n",
              "      <td>NaN</td>\n",
              "      <td>NaN</td>\n",
              "      <td>False</td>\n",
              "      <td>False</td>\n",
              "      <td>0</td>\n",
              "      <td>0</td>\n",
              "      <td>NaN</td>\n",
              "      <td>NaN</td>\n",
              "      <td>LaCasaDePapel</td>\n",
              "      <td>NaN</td>\n",
              "      <td>NaN</td>\n",
              "      <td>NaN</td>\n",
              "      <td>NaN</td>\n",
              "      <td>http://pbs.twimg.com/tweet_video_thumb/EVxKPcE...</td>\n",
              "      <td>https://t.co/bzOzu3InD5</td>\n",
              "      <td>https://twitter.com/El_Professor12/status/1250...</td>\n",
              "      <td>photo</td>\n",
              "      <td>http://pbs.twimg.com/tweet_video_thumb/EVxKPcE...</td>\n",
              "      <td>https://t.co/bzOzu3InD5</td>\n",
              "      <td>https://twitter.com/El_Professor12/status/1250...</td>\n",
              "      <td>NaN</td>\n",
              "      <td>NaN</td>\n",
              "      <td>NaN</td>\n",
              "      <td>en</td>\n",
              "      <td>NaN</td>\n",
              "      <td>NaN</td>\n",
              "      <td>NaN</td>\n",
              "      <td>NaN</td>\n",
              "      <td>NaN</td>\n",
              "      <td>NaN</td>\n",
              "      <td>NaN</td>\n",
              "      <td>NaN</td>\n",
              "      <td>...</td>\n",
              "      <td>NaN</td>\n",
              "      <td>NaN</td>\n",
              "      <td>NaN</td>\n",
              "      <td>NaN</td>\n",
              "      <td>NaN</td>\n",
              "      <td>NaN</td>\n",
              "      <td>NaN</td>\n",
              "      <td>NaN</td>\n",
              "      <td>NaN</td>\n",
              "      <td>NaN</td>\n",
              "      <td>NaN</td>\n",
              "      <td>NaN</td>\n",
              "      <td>NaN</td>\n",
              "      <td>NaN</td>\n",
              "      <td>NaN</td>\n",
              "      <td>NaN</td>\n",
              "      <td>NaN</td>\n",
              "      <td>NaN</td>\n",
              "      <td>NA NA</td>\n",
              "      <td>NA NA</td>\n",
              "      <td>NA NA NA NA NA NA NA NA</td>\n",
              "      <td>https://twitter.com/El_Profesor_12/status/1250...</td>\n",
              "      <td>Irene La Profesora</td>\n",
              "      <td>Greece</td>\n",
              "      <td>Forever inlove with @stana_katic\\r\\n\\r\\nTamala...</td>\n",
              "      <td>https://t.co/WL9msBj2Tb</td>\n",
              "      <td>False</td>\n",
              "      <td>2580</td>\n",
              "      <td>1779</td>\n",
              "      <td>15</td>\n",
              "      <td>22304</td>\n",
              "      <td>14722</td>\n",
              "      <td>2013-05-03 11:08:04</td>\n",
              "      <td>False</td>\n",
              "      <td>https://t.co/WL9msBj2Tb</td>\n",
              "      <td>http://ask.fm/Irene_Caskett</td>\n",
              "      <td>NaN</td>\n",
              "      <td>https://pbs.twimg.com/profile_banners/13994811...</td>\n",
              "      <td>http://abs.twimg.com/images/themes/theme17/bg.gif</td>\n",
              "      <td>http://pbs.twimg.com/profile_images/1249829990...</td>\n",
              "    </tr>\n",
              "    <tr>\n",
              "      <th>15294</th>\n",
              "      <td>x1225620097240387584</td>\n",
              "      <td>x1250952977965334528</td>\n",
              "      <td>2020-04-17 01:03:26</td>\n",
              "      <td>IssoVeludo</td>\n",
              "      <td>&lt;U+0001F3C6&gt; VELUDO AWARDS &lt;U+0001F3C6&gt;\\r\\n\\r\\...</td>\n",
              "      <td>Twitter for Android</td>\n",
              "      <td>223</td>\n",
              "      <td>NaN</td>\n",
              "      <td>NaN</td>\n",
              "      <td>NaN</td>\n",
              "      <td>False</td>\n",
              "      <td>False</td>\n",
              "      <td>17</td>\n",
              "      <td>2</td>\n",
              "      <td>NaN</td>\n",
              "      <td>NaN</td>\n",
              "      <td>TheFlash GameOfThrones Elite LaCasaDePapel</td>\n",
              "      <td>NaN</td>\n",
              "      <td>NaN</td>\n",
              "      <td>NaN</td>\n",
              "      <td>NaN</td>\n",
              "      <td>http://pbs.twimg.com/media/EVxHFYGWsAMiyhW.jpg</td>\n",
              "      <td>https://t.co/1qy1Wmgm94</td>\n",
              "      <td>https://twitter.com/IssoVeludo/status/12509529...</td>\n",
              "      <td>photo</td>\n",
              "      <td>http://pbs.twimg.com/media/EVxHFYGWsAMiyhW.jpg...</td>\n",
              "      <td>https://t.co/1qy1Wmgm94 https://t.co/1qy1Wmgm9...</td>\n",
              "      <td>https://twitter.com/IssoVeludo/status/12509529...</td>\n",
              "      <td>NaN</td>\n",
              "      <td>NaN</td>\n",
              "      <td>NaN</td>\n",
              "      <td>en</td>\n",
              "      <td>NaN</td>\n",
              "      <td>NaN</td>\n",
              "      <td>NaN</td>\n",
              "      <td>NaN</td>\n",
              "      <td>NaN</td>\n",
              "      <td>NaN</td>\n",
              "      <td>NaN</td>\n",
              "      <td>NaN</td>\n",
              "      <td>...</td>\n",
              "      <td>NaN</td>\n",
              "      <td>NaN</td>\n",
              "      <td>NaN</td>\n",
              "      <td>NaN</td>\n",
              "      <td>NaN</td>\n",
              "      <td>NaN</td>\n",
              "      <td>NaN</td>\n",
              "      <td>NaN</td>\n",
              "      <td>NaN</td>\n",
              "      <td>NaN</td>\n",
              "      <td>NaN</td>\n",
              "      <td>NaN</td>\n",
              "      <td>NaN</td>\n",
              "      <td>NaN</td>\n",
              "      <td>NaN</td>\n",
              "      <td>NaN</td>\n",
              "      <td>NaN</td>\n",
              "      <td>NaN</td>\n",
              "      <td>NA NA</td>\n",
              "      <td>NA NA</td>\n",
              "      <td>NA NA NA NA NA NA NA NA</td>\n",
              "      <td>https://twitter.com/IssoVeludo/status/12509529...</td>\n",
              "      <td>Isso é veludo?</td>\n",
              "      <td>NaN</td>\n",
              "      <td>Comentando e trazendo notícias de todo tipo de...</td>\n",
              "      <td>https://t.co/xKuFvMTuQ3</td>\n",
              "      <td>False</td>\n",
              "      <td>121</td>\n",
              "      <td>284</td>\n",
              "      <td>0</td>\n",
              "      <td>1013</td>\n",
              "      <td>1142</td>\n",
              "      <td>2020-02-07 03:19:50</td>\n",
              "      <td>False</td>\n",
              "      <td>https://t.co/xKuFvMTuQ3</td>\n",
              "      <td>https://www.instagram.com/issoveludo/</td>\n",
              "      <td>NaN</td>\n",
              "      <td>https://pbs.twimg.com/profile_banners/12256200...</td>\n",
              "      <td>NaN</td>\n",
              "      <td>http://pbs.twimg.com/profile_images/1242955479...</td>\n",
              "    </tr>\n",
              "    <tr>\n",
              "      <th>15295</th>\n",
              "      <td>x30528877</td>\n",
              "      <td>x1250945169127587841</td>\n",
              "      <td>2020-04-17 00:32:24</td>\n",
              "      <td>karinadonata</td>\n",
              "      <td>I've just watched episode S04E08 of Money Heis...</td>\n",
              "      <td>TV Time, TV show tracker</td>\n",
              "      <td>95</td>\n",
              "      <td>NaN</td>\n",
              "      <td>NaN</td>\n",
              "      <td>NaN</td>\n",
              "      <td>False</td>\n",
              "      <td>False</td>\n",
              "      <td>0</td>\n",
              "      <td>0</td>\n",
              "      <td>NaN</td>\n",
              "      <td>NaN</td>\n",
              "      <td>lacasadepapel tvtime</td>\n",
              "      <td>NaN</td>\n",
              "      <td>tvtime.com/r/1k6Z2</td>\n",
              "      <td>https://t.co/9ZeDXCLh1I</td>\n",
              "      <td>https://tvtime.com/r/1k6Z2</td>\n",
              "      <td>NaN</td>\n",
              "      <td>NaN</td>\n",
              "      <td>NaN</td>\n",
              "      <td>NaN</td>\n",
              "      <td>NaN</td>\n",
              "      <td>NaN</td>\n",
              "      <td>NaN</td>\n",
              "      <td>NaN</td>\n",
              "      <td>NaN</td>\n",
              "      <td>NaN</td>\n",
              "      <td>en</td>\n",
              "      <td>NaN</td>\n",
              "      <td>NaN</td>\n",
              "      <td>NaN</td>\n",
              "      <td>NaN</td>\n",
              "      <td>NaN</td>\n",
              "      <td>NaN</td>\n",
              "      <td>NaN</td>\n",
              "      <td>NaN</td>\n",
              "      <td>...</td>\n",
              "      <td>NaN</td>\n",
              "      <td>NaN</td>\n",
              "      <td>NaN</td>\n",
              "      <td>NaN</td>\n",
              "      <td>NaN</td>\n",
              "      <td>NaN</td>\n",
              "      <td>NaN</td>\n",
              "      <td>NaN</td>\n",
              "      <td>NaN</td>\n",
              "      <td>NaN</td>\n",
              "      <td>NaN</td>\n",
              "      <td>NaN</td>\n",
              "      <td>NaN</td>\n",
              "      <td>NaN</td>\n",
              "      <td>NaN</td>\n",
              "      <td>NaN</td>\n",
              "      <td>NaN</td>\n",
              "      <td>NaN</td>\n",
              "      <td>NA NA</td>\n",
              "      <td>NA NA</td>\n",
              "      <td>NA NA NA NA NA NA NA NA</td>\n",
              "      <td>https://twitter.com/karinadonata/status/125094...</td>\n",
              "      <td>karinadonata</td>\n",
              "      <td>Novo Horizonte - SP</td>\n",
              "      <td>27 anos, mãe do Nico e da Emma, exausta, indis...</td>\n",
              "      <td>NaN</td>\n",
              "      <td>False</td>\n",
              "      <td>747</td>\n",
              "      <td>528</td>\n",
              "      <td>12</td>\n",
              "      <td>11807</td>\n",
              "      <td>22352</td>\n",
              "      <td>2009-04-11 21:32:17</td>\n",
              "      <td>False</td>\n",
              "      <td>NaN</td>\n",
              "      <td>NaN</td>\n",
              "      <td>NaN</td>\n",
              "      <td>https://pbs.twimg.com/profile_banners/30528877...</td>\n",
              "      <td>http://abs.twimg.com/images/themes/theme10/bg.gif</td>\n",
              "      <td>http://pbs.twimg.com/profile_images/1241480544...</td>\n",
              "    </tr>\n",
              "    <tr>\n",
              "      <th>15296</th>\n",
              "      <td>x1002072721004445696</td>\n",
              "      <td>x1250944069427064832</td>\n",
              "      <td>2020-04-17 00:28:02</td>\n",
              "      <td>The_Meym_Tham</td>\n",
              "      <td>&lt;U+0001D5D4&gt;&lt;U+0001D5DC&gt;&lt;U+0001D5E1&gt;'&lt;U+0001D5...</td>\n",
              "      <td>Twitter for Android</td>\n",
              "      <td>87</td>\n",
              "      <td>NaN</td>\n",
              "      <td>NaN</td>\n",
              "      <td>NaN</td>\n",
              "      <td>False</td>\n",
              "      <td>False</td>\n",
              "      <td>1</td>\n",
              "      <td>0</td>\n",
              "      <td>NaN</td>\n",
              "      <td>NaN</td>\n",
              "      <td>&lt;U+0001D5E5&gt;&lt;U+0001D5DC&gt;&lt;U+0001D5E2&gt; LaCasaDeP...</td>\n",
              "      <td>NaN</td>\n",
              "      <td>NaN</td>\n",
              "      <td>NaN</td>\n",
              "      <td>NaN</td>\n",
              "      <td>http://pbs.twimg.com/media/EVw---vVAAUCIpA.jpg</td>\n",
              "      <td>https://t.co/KVvEvfqrrp</td>\n",
              "      <td>https://twitter.com/The_Meym_Tham/status/12509...</td>\n",
              "      <td>photo</td>\n",
              "      <td>http://pbs.twimg.com/media/EVw---vVAAUCIpA.jpg...</td>\n",
              "      <td>https://t.co/KVvEvfqrrp https://t.co/KVvEvfqrrp</td>\n",
              "      <td>https://twitter.com/The_Meym_Tham/status/12509...</td>\n",
              "      <td>NaN</td>\n",
              "      <td>NaN</td>\n",
              "      <td>NaN</td>\n",
              "      <td>en</td>\n",
              "      <td>NaN</td>\n",
              "      <td>NaN</td>\n",
              "      <td>NaN</td>\n",
              "      <td>NaN</td>\n",
              "      <td>NaN</td>\n",
              "      <td>NaN</td>\n",
              "      <td>NaN</td>\n",
              "      <td>NaN</td>\n",
              "      <td>...</td>\n",
              "      <td>NaN</td>\n",
              "      <td>NaN</td>\n",
              "      <td>NaN</td>\n",
              "      <td>NaN</td>\n",
              "      <td>NaN</td>\n",
              "      <td>NaN</td>\n",
              "      <td>NaN</td>\n",
              "      <td>NaN</td>\n",
              "      <td>NaN</td>\n",
              "      <td>NaN</td>\n",
              "      <td>NaN</td>\n",
              "      <td>NaN</td>\n",
              "      <td>NaN</td>\n",
              "      <td>NaN</td>\n",
              "      <td>NaN</td>\n",
              "      <td>NaN</td>\n",
              "      <td>NaN</td>\n",
              "      <td>NaN</td>\n",
              "      <td>NA NA</td>\n",
              "      <td>NA NA</td>\n",
              "      <td>NA NA NA NA NA NA NA NA</td>\n",
              "      <td>https://twitter.com/The_Meym_Tham/status/12509...</td>\n",
              "      <td>THE_MEYM_THAM</td>\n",
              "      <td>Cebu City, Central Visayas</td>\n",
              "      <td>&lt;U+0001D687&gt;1\\r\\n&lt;U+0001D686&gt;&lt;U+0001D67E&gt;&lt;U+00...</td>\n",
              "      <td>https://t.co/Q5nDI83p8a</td>\n",
              "      <td>False</td>\n",
              "      <td>43</td>\n",
              "      <td>155</td>\n",
              "      <td>0</td>\n",
              "      <td>145</td>\n",
              "      <td>138</td>\n",
              "      <td>2018-05-31 06:22:09</td>\n",
              "      <td>False</td>\n",
              "      <td>https://t.co/Q5nDI83p8a</td>\n",
              "      <td>http://instagram.com/meym_tham</td>\n",
              "      <td>NaN</td>\n",
              "      <td>https://pbs.twimg.com/profile_banners/10020727...</td>\n",
              "      <td>NaN</td>\n",
              "      <td>http://pbs.twimg.com/profile_images/1248558478...</td>\n",
              "    </tr>\n",
              "    <tr>\n",
              "      <th>15297</th>\n",
              "      <td>x1002072721004445696</td>\n",
              "      <td>x1250944069427064832</td>\n",
              "      <td>2020-04-17 00:28:02</td>\n",
              "      <td>The_Meym_Tham</td>\n",
              "      <td>&lt;U+0001D5D4&gt;&lt;U+0001D5DC&gt;&lt;U+0001D5E1&gt;'&lt;U+0001D5...</td>\n",
              "      <td>Twitter for Android</td>\n",
              "      <td>87</td>\n",
              "      <td>NaN</td>\n",
              "      <td>NaN</td>\n",
              "      <td>NaN</td>\n",
              "      <td>False</td>\n",
              "      <td>False</td>\n",
              "      <td>1</td>\n",
              "      <td>0</td>\n",
              "      <td>NaN</td>\n",
              "      <td>NaN</td>\n",
              "      <td>&lt;U+0001D5E5&gt;&lt;U+0001D5DC&gt;&lt;U+0001D5E2&gt; LaCasaDeP...</td>\n",
              "      <td>NaN</td>\n",
              "      <td>NaN</td>\n",
              "      <td>NaN</td>\n",
              "      <td>NaN</td>\n",
              "      <td>http://pbs.twimg.com/media/EVw---vVAAUCIpA.jpg</td>\n",
              "      <td>https://t.co/KVvEvfqrrp</td>\n",
              "      <td>https://twitter.com/The_Meym_Tham/status/12509...</td>\n",
              "      <td>photo</td>\n",
              "      <td>http://pbs.twimg.com/media/EVw---vVAAUCIpA.jpg...</td>\n",
              "      <td>https://t.co/KVvEvfqrrp https://t.co/KVvEvfqrrp</td>\n",
              "      <td>https://twitter.com/The_Meym_Tham/status/12509...</td>\n",
              "      <td>NaN</td>\n",
              "      <td>NaN</td>\n",
              "      <td>NaN</td>\n",
              "      <td>en</td>\n",
              "      <td>NaN</td>\n",
              "      <td>NaN</td>\n",
              "      <td>NaN</td>\n",
              "      <td>NaN</td>\n",
              "      <td>NaN</td>\n",
              "      <td>NaN</td>\n",
              "      <td>NaN</td>\n",
              "      <td>NaN</td>\n",
              "      <td>...</td>\n",
              "      <td>NaN</td>\n",
              "      <td>NaN</td>\n",
              "      <td>NaN</td>\n",
              "      <td>NaN</td>\n",
              "      <td>NaN</td>\n",
              "      <td>NaN</td>\n",
              "      <td>NaN</td>\n",
              "      <td>NaN</td>\n",
              "      <td>NaN</td>\n",
              "      <td>NaN</td>\n",
              "      <td>NaN</td>\n",
              "      <td>NaN</td>\n",
              "      <td>NaN</td>\n",
              "      <td>NaN</td>\n",
              "      <td>NaN</td>\n",
              "      <td>NaN</td>\n",
              "      <td>NaN</td>\n",
              "      <td>NaN</td>\n",
              "      <td>NA NA</td>\n",
              "      <td>NA NA</td>\n",
              "      <td>NA NA NA NA NA NA NA NA</td>\n",
              "      <td>https://twitter.com/The_Meym_Tham/status/12509...</td>\n",
              "      <td>THE_MEYM_THAM</td>\n",
              "      <td>Cebu City, Central Visayas</td>\n",
              "      <td>&lt;U+0001D687&gt;1\\r\\n&lt;U+0001D686&gt;&lt;U+0001D67E&gt;&lt;U+00...</td>\n",
              "      <td>https://t.co/Q5nDI83p8a</td>\n",
              "      <td>False</td>\n",
              "      <td>43</td>\n",
              "      <td>155</td>\n",
              "      <td>0</td>\n",
              "      <td>145</td>\n",
              "      <td>138</td>\n",
              "      <td>2018-05-31 06:22:09</td>\n",
              "      <td>False</td>\n",
              "      <td>https://t.co/Q5nDI83p8a</td>\n",
              "      <td>http://instagram.com/meym_tham</td>\n",
              "      <td>NaN</td>\n",
              "      <td>https://pbs.twimg.com/profile_banners/10020727...</td>\n",
              "      <td>NaN</td>\n",
              "      <td>http://pbs.twimg.com/profile_images/1248558478...</td>\n",
              "    </tr>\n",
              "  </tbody>\n",
              "</table>\n",
              "<p>5 rows × 90 columns</p>\n",
              "</div>"
            ],
            "text/plain": [
              "                    user_id  ...                                  profile_image_url\n",
              "15293           x1399481156  ...  http://pbs.twimg.com/profile_images/1249829990...\n",
              "15294  x1225620097240387584  ...  http://pbs.twimg.com/profile_images/1242955479...\n",
              "15295             x30528877  ...  http://pbs.twimg.com/profile_images/1241480544...\n",
              "15296  x1002072721004445696  ...  http://pbs.twimg.com/profile_images/1248558478...\n",
              "15297  x1002072721004445696  ...  http://pbs.twimg.com/profile_images/1248558478...\n",
              "\n",
              "[5 rows x 90 columns]"
            ]
          },
          "metadata": {
            "tags": []
          },
          "execution_count": 58
        }
      ]
    },
    {
      "cell_type": "code",
      "metadata": {
        "id": "U3q3EH-F0D2-",
        "colab_type": "code",
        "colab": {}
      },
      "source": [
        "prova = tweet_en[['user_id', 'status_id', 'created_at', 'screen_name', 'text', 'source',\n",
        "                  'display_text_width', 'favorite_count', 'retweet_count',\n",
        "                  'hashtags']]"
      ],
      "execution_count": 0,
      "outputs": []
    },
    {
      "cell_type": "code",
      "metadata": {
        "id": "_it4uGgU0IPW",
        "colab_type": "code",
        "colab": {
          "base_uri": "https://localhost:8080/",
          "height": 34
        },
        "outputId": "a96e4228-9c31-4c24-d4d9-3def0e3e07f1"
      },
      "source": [
        "prova.shape"
      ],
      "execution_count": 64,
      "outputs": [
        {
          "output_type": "execute_result",
          "data": {
            "text/plain": [
              "(15298, 10)"
            ]
          },
          "metadata": {
            "tags": []
          },
          "execution_count": 64
        }
      ]
    },
    {
      "cell_type": "code",
      "metadata": {
        "id": "77h5WgQS0K0j",
        "colab_type": "code",
        "colab": {}
      },
      "source": [
        "prova.to_csv('tweet_en.csv', index = False, sep = ',')"
      ],
      "execution_count": 0,
      "outputs": []
    },
    {
      "cell_type": "code",
      "metadata": {
        "id": "NjW4u9ik0WpK",
        "colab_type": "code",
        "colab": {}
      },
      "source": [
        "a = pd.read_csv(\"tweet_en.csv\")"
      ],
      "execution_count": 0,
      "outputs": []
    },
    {
      "cell_type": "code",
      "metadata": {
        "id": "xhoTvQYP0aNW",
        "colab_type": "code",
        "colab": {
          "base_uri": "https://localhost:8080/",
          "height": 34
        },
        "outputId": "57b57e72-2b96-4134-924e-bb7c7b6182a1"
      },
      "source": [
        "a.shape"
      ],
      "execution_count": 66,
      "outputs": [
        {
          "output_type": "execute_result",
          "data": {
            "text/plain": [
              "(15298, 10)"
            ]
          },
          "metadata": {
            "tags": []
          },
          "execution_count": 66
        }
      ]
    },
    {
      "cell_type": "code",
      "metadata": {
        "id": "kxtciPa10bqi",
        "colab_type": "code",
        "colab": {
          "base_uri": "https://localhost:8080/",
          "height": 479
        },
        "outputId": "143440de-a456-45f9-875e-85ab39719937"
      },
      "source": [
        "a.tail()"
      ],
      "execution_count": 67,
      "outputs": [
        {
          "output_type": "execute_result",
          "data": {
            "text/html": [
              "<div>\n",
              "<style scoped>\n",
              "    .dataframe tbody tr th:only-of-type {\n",
              "        vertical-align: middle;\n",
              "    }\n",
              "\n",
              "    .dataframe tbody tr th {\n",
              "        vertical-align: top;\n",
              "    }\n",
              "\n",
              "    .dataframe thead th {\n",
              "        text-align: right;\n",
              "    }\n",
              "</style>\n",
              "<table border=\"1\" class=\"dataframe\">\n",
              "  <thead>\n",
              "    <tr style=\"text-align: right;\">\n",
              "      <th></th>\n",
              "      <th>user_id</th>\n",
              "      <th>status_id</th>\n",
              "      <th>created_at</th>\n",
              "      <th>screen_name</th>\n",
              "      <th>text</th>\n",
              "      <th>source</th>\n",
              "      <th>display_text_width</th>\n",
              "      <th>favorite_count</th>\n",
              "      <th>retweet_count</th>\n",
              "      <th>hashtags</th>\n",
              "    </tr>\n",
              "  </thead>\n",
              "  <tbody>\n",
              "    <tr>\n",
              "      <th>15293</th>\n",
              "      <td>x1399481156</td>\n",
              "      <td>x1250956433463619587</td>\n",
              "      <td>2020-04-17 01:17:10</td>\n",
              "      <td>El_Profesor_12</td>\n",
              "      <td>When you finish a new episode of #LaCasaDePape...</td>\n",
              "      <td>Twitter for Android</td>\n",
              "      <td>49</td>\n",
              "      <td>0</td>\n",
              "      <td>0</td>\n",
              "      <td>LaCasaDePapel</td>\n",
              "    </tr>\n",
              "    <tr>\n",
              "      <th>15294</th>\n",
              "      <td>x1225620097240387584</td>\n",
              "      <td>x1250952977965334528</td>\n",
              "      <td>2020-04-17 01:03:26</td>\n",
              "      <td>IssoVeludo</td>\n",
              "      <td>&lt;U+0001F3C6&gt; VELUDO AWARDS &lt;U+0001F3C6&gt;\\r\\n\\r\\...</td>\n",
              "      <td>Twitter for Android</td>\n",
              "      <td>223</td>\n",
              "      <td>17</td>\n",
              "      <td>2</td>\n",
              "      <td>TheFlash GameOfThrones Elite LaCasaDePapel</td>\n",
              "    </tr>\n",
              "    <tr>\n",
              "      <th>15295</th>\n",
              "      <td>x30528877</td>\n",
              "      <td>x1250945169127587841</td>\n",
              "      <td>2020-04-17 00:32:24</td>\n",
              "      <td>karinadonata</td>\n",
              "      <td>I've just watched episode S04E08 of Money Heis...</td>\n",
              "      <td>TV Time, TV show tracker</td>\n",
              "      <td>95</td>\n",
              "      <td>0</td>\n",
              "      <td>0</td>\n",
              "      <td>lacasadepapel tvtime</td>\n",
              "    </tr>\n",
              "    <tr>\n",
              "      <th>15296</th>\n",
              "      <td>x1002072721004445696</td>\n",
              "      <td>x1250944069427064832</td>\n",
              "      <td>2020-04-17 00:28:02</td>\n",
              "      <td>The_Meym_Tham</td>\n",
              "      <td>&lt;U+0001D5D4&gt;&lt;U+0001D5DC&gt;&lt;U+0001D5E1&gt;'&lt;U+0001D5...</td>\n",
              "      <td>Twitter for Android</td>\n",
              "      <td>87</td>\n",
              "      <td>1</td>\n",
              "      <td>0</td>\n",
              "      <td>&lt;U+0001D5E5&gt;&lt;U+0001D5DC&gt;&lt;U+0001D5E2&gt; LaCasaDeP...</td>\n",
              "    </tr>\n",
              "    <tr>\n",
              "      <th>15297</th>\n",
              "      <td>x1002072721004445696</td>\n",
              "      <td>x1250944069427064832</td>\n",
              "      <td>2020-04-17 00:28:02</td>\n",
              "      <td>The_Meym_Tham</td>\n",
              "      <td>&lt;U+0001D5D4&gt;&lt;U+0001D5DC&gt;&lt;U+0001D5E1&gt;'&lt;U+0001D5...</td>\n",
              "      <td>Twitter for Android</td>\n",
              "      <td>87</td>\n",
              "      <td>1</td>\n",
              "      <td>0</td>\n",
              "      <td>&lt;U+0001D5E5&gt;&lt;U+0001D5DC&gt;&lt;U+0001D5E2&gt; LaCasaDeP...</td>\n",
              "    </tr>\n",
              "  </tbody>\n",
              "</table>\n",
              "</div>"
            ],
            "text/plain": [
              "                    user_id  ...                                           hashtags\n",
              "15293           x1399481156  ...                                      LaCasaDePapel\n",
              "15294  x1225620097240387584  ...         TheFlash GameOfThrones Elite LaCasaDePapel\n",
              "15295             x30528877  ...                               lacasadepapel tvtime\n",
              "15296  x1002072721004445696  ...  <U+0001D5E5><U+0001D5DC><U+0001D5E2> LaCasaDeP...\n",
              "15297  x1002072721004445696  ...  <U+0001D5E5><U+0001D5DC><U+0001D5E2> LaCasaDeP...\n",
              "\n",
              "[5 rows x 10 columns]"
            ]
          },
          "metadata": {
            "tags": []
          },
          "execution_count": 67
        }
      ]
    }
  ]
}