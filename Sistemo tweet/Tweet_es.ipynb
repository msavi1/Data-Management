{
  "nbformat": 4,
  "nbformat_minor": 0,
  "metadata": {
    "colab": {
      "name": "Tweet_es.ipynb",
      "provenance": [],
      "collapsed_sections": [],
      "toc_visible": true
    },
    "kernelspec": {
      "name": "python3",
      "display_name": "Python 3"
    }
  },
  "cells": [
    {
      "cell_type": "markdown",
      "metadata": {
        "id": "NDK5yWBKKF1y",
        "colab_type": "text"
      },
      "source": [
        "##TWEET SPAGNOLI LDCP\n",
        "In questo notebook metto insieme tutti i tweet spagnoli dal 01-04-2020 al 21-04-2020. Tutti i dati saranno disponibili nel file finale **tweet_es.cvs**"
      ]
    },
    {
      "cell_type": "code",
      "metadata": {
        "id": "hlbHpHz-KaYp",
        "colab_type": "code",
        "colab": {}
      },
      "source": [
        "import pandas as pd"
      ],
      "execution_count": 0,
      "outputs": []
    },
    {
      "cell_type": "markdown",
      "metadata": {
        "id": "rTkbjE_LKv1k",
        "colab_type": "text"
      },
      "source": [
        "**spanish.csv** contiene i tweet dal 01-04-2020 fino al 09-04-2020, MA i tweet del giorno 09-04-2020 non sono completi: li elimino per poi unirli con es_0409.csv dove invece sono completi"
      ]
    },
    {
      "cell_type": "code",
      "metadata": {
        "id": "VqpZsex-FR-3",
        "colab_type": "code",
        "colab": {}
      },
      "source": [
        "df = pd.read_csv(\"spanish.csv\")"
      ],
      "execution_count": 0,
      "outputs": []
    },
    {
      "cell_type": "code",
      "metadata": {
        "id": "yuQ46l9YGuRl",
        "colab_type": "code",
        "outputId": "5ebca1c8-329f-44ab-c862-a0c9915c506a",
        "colab": {
          "base_uri": "https://localhost:8080/",
          "height": 34
        }
      },
      "source": [
        "df.shape"
      ],
      "execution_count": 0,
      "outputs": [
        {
          "output_type": "execute_result",
          "data": {
            "text/plain": [
              "(19276, 90)"
            ]
          },
          "metadata": {
            "tags": []
          },
          "execution_count": 3
        }
      ]
    },
    {
      "cell_type": "code",
      "metadata": {
        "id": "G-YodKmVHH8Z",
        "colab_type": "code",
        "colab": {}
      },
      "source": [
        "indexNames = df[df.created_at.str.contains('2020-04-09')].index"
      ],
      "execution_count": 0,
      "outputs": []
    },
    {
      "cell_type": "code",
      "metadata": {
        "id": "6bqstMStHKpe",
        "colab_type": "code",
        "colab": {}
      },
      "source": [
        "df = df.drop(indexNames)"
      ],
      "execution_count": 0,
      "outputs": []
    },
    {
      "cell_type": "code",
      "metadata": {
        "id": "BVg--NkQHLkC",
        "colab_type": "code",
        "outputId": "15946c25-1d17-4b40-b127-82c29e67c410",
        "colab": {
          "base_uri": "https://localhost:8080/",
          "height": 34
        }
      },
      "source": [
        "#tweet dal 01-04-2020 al 08-04-2020\n",
        "df.shape"
      ],
      "execution_count": 0,
      "outputs": [
        {
          "output_type": "execute_result",
          "data": {
            "text/plain": [
              "(19001, 90)"
            ]
          },
          "metadata": {
            "tags": []
          },
          "execution_count": 6
        }
      ]
    },
    {
      "cell_type": "markdown",
      "metadata": {
        "id": "IQ1_DyjMLUa3",
        "colab_type": "text"
      },
      "source": [
        "**es_0409.csv**: tweet del giorno 09-04-2020"
      ]
    },
    {
      "cell_type": "code",
      "metadata": {
        "id": "xdlr__vyHg1u",
        "colab_type": "code",
        "colab": {}
      },
      "source": [
        "df1 = pd.read_csv(\"es_0409.csv\")"
      ],
      "execution_count": 0,
      "outputs": []
    },
    {
      "cell_type": "code",
      "metadata": {
        "id": "0A1p7UzmHmei",
        "colab_type": "code",
        "outputId": "9c6b60e7-0c81-4ed5-a826-b7d2d2cb00c2",
        "colab": {
          "base_uri": "https://localhost:8080/",
          "height": 34
        }
      },
      "source": [
        "df1.shape"
      ],
      "execution_count": 0,
      "outputs": [
        {
          "output_type": "execute_result",
          "data": {
            "text/plain": [
              "(606, 90)"
            ]
          },
          "metadata": {
            "tags": []
          },
          "execution_count": 10
        }
      ]
    },
    {
      "cell_type": "code",
      "metadata": {
        "id": "lh1HMLYoH_Eu",
        "colab_type": "code",
        "colab": {}
      },
      "source": [
        "df2 = pd.concat([df, df1], axis=0, join='outer', ignore_index=False, keys=None,\n",
        "          levels=None, names=None, verify_integrity=False, copy=True)"
      ],
      "execution_count": 0,
      "outputs": []
    },
    {
      "cell_type": "code",
      "metadata": {
        "id": "JWcqGI22IC30",
        "colab_type": "code",
        "outputId": "caba1663-8c49-46fa-faee-645b89a7aa9b",
        "colab": {
          "base_uri": "https://localhost:8080/",
          "height": 34
        }
      },
      "source": [
        "df2.shape"
      ],
      "execution_count": 0,
      "outputs": [
        {
          "output_type": "execute_result",
          "data": {
            "text/plain": [
              "(19607, 90)"
            ]
          },
          "metadata": {
            "tags": []
          },
          "execution_count": 12
        }
      ]
    },
    {
      "cell_type": "markdown",
      "metadata": {
        "id": "V7_kJpHQLgtt",
        "colab_type": "text"
      },
      "source": [
        "**es_0410.csv**: tweet del giorno 10-04-2020"
      ]
    },
    {
      "cell_type": "code",
      "metadata": {
        "id": "sbu35C_2JoPk",
        "colab_type": "code",
        "colab": {}
      },
      "source": [
        "df3 = pd.read_csv(\"es_0410.csv\")"
      ],
      "execution_count": 0,
      "outputs": []
    },
    {
      "cell_type": "code",
      "metadata": {
        "id": "OLfGb1X4LyZb",
        "colab_type": "code",
        "outputId": "87334552-ef77-4c09-802d-274818a7ee27",
        "colab": {
          "base_uri": "https://localhost:8080/",
          "height": 34
        }
      },
      "source": [
        "df3.shape"
      ],
      "execution_count": 0,
      "outputs": [
        {
          "output_type": "execute_result",
          "data": {
            "text/plain": [
              "(541, 90)"
            ]
          },
          "metadata": {
            "tags": []
          },
          "execution_count": 16
        }
      ]
    },
    {
      "cell_type": "code",
      "metadata": {
        "id": "3V6k1a86L6Kt",
        "colab_type": "code",
        "colab": {}
      },
      "source": [
        "df4 = pd.concat([df2, df3], axis=0, join='outer', ignore_index=False, keys=None,\n",
        "          levels=None, names=None, verify_integrity=False, copy=True)"
      ],
      "execution_count": 0,
      "outputs": []
    },
    {
      "cell_type": "code",
      "metadata": {
        "id": "rgzjGOFKL_Cp",
        "colab_type": "code",
        "outputId": "0138f682-1c64-4f90-aca8-518b56912173",
        "colab": {
          "base_uri": "https://localhost:8080/",
          "height": 34
        }
      },
      "source": [
        "df4.shape"
      ],
      "execution_count": 0,
      "outputs": [
        {
          "output_type": "execute_result",
          "data": {
            "text/plain": [
              "(20148, 90)"
            ]
          },
          "metadata": {
            "tags": []
          },
          "execution_count": 18
        }
      ]
    },
    {
      "cell_type": "markdown",
      "metadata": {
        "id": "HOfmi0pGMUYw",
        "colab_type": "text"
      },
      "source": [
        "**es_0411.csv**: tweet del giorno 11-04-2020"
      ]
    },
    {
      "cell_type": "code",
      "metadata": {
        "id": "YXNTGuhUMfYM",
        "colab_type": "code",
        "colab": {}
      },
      "source": [
        "df5 = pd.read_csv(\"es_0411.csv\")"
      ],
      "execution_count": 0,
      "outputs": []
    },
    {
      "cell_type": "code",
      "metadata": {
        "id": "0Xd5kWgQMkoc",
        "colab_type": "code",
        "outputId": "9573388f-e7fb-430c-ead9-8131f6996dc8",
        "colab": {
          "base_uri": "https://localhost:8080/",
          "height": 34
        }
      },
      "source": [
        "df5.shape"
      ],
      "execution_count": 0,
      "outputs": [
        {
          "output_type": "execute_result",
          "data": {
            "text/plain": [
              "(447, 90)"
            ]
          },
          "metadata": {
            "tags": []
          },
          "execution_count": 21
        }
      ]
    },
    {
      "cell_type": "code",
      "metadata": {
        "id": "ef3bLFSVMwjj",
        "colab_type": "code",
        "colab": {}
      },
      "source": [
        "df6 = pd.concat([df4, df5], axis=0, join='outer', ignore_index=False, keys=None,\n",
        "          levels=None, names=None, verify_integrity=False, copy=True)"
      ],
      "execution_count": 0,
      "outputs": []
    },
    {
      "cell_type": "code",
      "metadata": {
        "id": "3SiOMQ12M1aU",
        "colab_type": "code",
        "outputId": "1b59fa33-307e-426f-a050-8e98c2e7430b",
        "colab": {
          "base_uri": "https://localhost:8080/",
          "height": 34
        }
      },
      "source": [
        "df6.shape"
      ],
      "execution_count": 0,
      "outputs": [
        {
          "output_type": "execute_result",
          "data": {
            "text/plain": [
              "(20595, 90)"
            ]
          },
          "metadata": {
            "tags": []
          },
          "execution_count": 23
        }
      ]
    },
    {
      "cell_type": "markdown",
      "metadata": {
        "id": "59z-rJErNBPX",
        "colab_type": "text"
      },
      "source": [
        "**es_0412.csv**: tweet del giorno 12-04-2020"
      ]
    },
    {
      "cell_type": "code",
      "metadata": {
        "id": "0cpKLxVFNAf9",
        "colab_type": "code",
        "colab": {}
      },
      "source": [
        "df7 = pd.read_csv(\"es_0412.csv\")"
      ],
      "execution_count": 0,
      "outputs": []
    },
    {
      "cell_type": "code",
      "metadata": {
        "id": "_5ouraxFNOrT",
        "colab_type": "code",
        "outputId": "73c2d096-13d9-4ff1-8345-5172119e3af6",
        "colab": {
          "base_uri": "https://localhost:8080/",
          "height": 34
        }
      },
      "source": [
        "df7.shape"
      ],
      "execution_count": 0,
      "outputs": [
        {
          "output_type": "execute_result",
          "data": {
            "text/plain": [
              "(470, 90)"
            ]
          },
          "metadata": {
            "tags": []
          },
          "execution_count": 26
        }
      ]
    },
    {
      "cell_type": "code",
      "metadata": {
        "id": "M8x40nVRNdbJ",
        "colab_type": "code",
        "colab": {}
      },
      "source": [
        "df8 = pd.concat([df6, df7], axis=0, join='outer', ignore_index=False, keys=None,\n",
        "          levels=None, names=None, verify_integrity=False, copy=True)"
      ],
      "execution_count": 0,
      "outputs": []
    },
    {
      "cell_type": "code",
      "metadata": {
        "id": "DJKs9iOsNtnA",
        "colab_type": "code",
        "outputId": "e1fc976c-6b2a-48f9-ca4d-413ce5d16cae",
        "colab": {
          "base_uri": "https://localhost:8080/",
          "height": 34
        }
      },
      "source": [
        "df8.shape"
      ],
      "execution_count": 0,
      "outputs": [
        {
          "output_type": "execute_result",
          "data": {
            "text/plain": [
              "(21065, 90)"
            ]
          },
          "metadata": {
            "tags": []
          },
          "execution_count": 28
        }
      ]
    },
    {
      "cell_type": "code",
      "metadata": {
        "id": "U53POgIVNwXm",
        "colab_type": "code",
        "outputId": "d82b9174-7e55-4643-eca0-1d5b2accb6e0",
        "colab": {
          "base_uri": "https://localhost:8080/",
          "height": 34
        }
      },
      "source": [
        "20595+470"
      ],
      "execution_count": 0,
      "outputs": [
        {
          "output_type": "execute_result",
          "data": {
            "text/plain": [
              "21065"
            ]
          },
          "metadata": {
            "tags": []
          },
          "execution_count": 29
        }
      ]
    },
    {
      "cell_type": "markdown",
      "metadata": {
        "id": "-wfUItXVN2gT",
        "colab_type": "text"
      },
      "source": [
        "**es_0413.csv**"
      ]
    },
    {
      "cell_type": "code",
      "metadata": {
        "id": "jQUCVUBNN6DG",
        "colab_type": "code",
        "colab": {}
      },
      "source": [
        "df9 = pd.read_csv(\"es_0413.csv\")"
      ],
      "execution_count": 0,
      "outputs": []
    },
    {
      "cell_type": "code",
      "metadata": {
        "id": "EI0XxPE_N-Lt",
        "colab_type": "code",
        "outputId": "be61d3bb-2a09-4c8e-de4c-2d0c536b129b",
        "colab": {
          "base_uri": "https://localhost:8080/",
          "height": 34
        }
      },
      "source": [
        "df9.shape"
      ],
      "execution_count": 0,
      "outputs": [
        {
          "output_type": "execute_result",
          "data": {
            "text/plain": [
              "(408, 90)"
            ]
          },
          "metadata": {
            "tags": []
          },
          "execution_count": 32
        }
      ]
    },
    {
      "cell_type": "code",
      "metadata": {
        "id": "Z5Tu_vNJOMVg",
        "colab_type": "code",
        "colab": {}
      },
      "source": [
        "df10 = pd.concat([df8, df9], axis=0, join='outer', ignore_index=False, keys=None,\n",
        "          levels=None, names=None, verify_integrity=False, copy=True)"
      ],
      "execution_count": 0,
      "outputs": []
    },
    {
      "cell_type": "code",
      "metadata": {
        "id": "bpJ7sbpiORLA",
        "colab_type": "code",
        "outputId": "0461d4fb-9a3d-45d3-e398-f65a56796bfd",
        "colab": {
          "base_uri": "https://localhost:8080/",
          "height": 34
        }
      },
      "source": [
        "df10.shape"
      ],
      "execution_count": 0,
      "outputs": [
        {
          "output_type": "execute_result",
          "data": {
            "text/plain": [
              "(21473, 90)"
            ]
          },
          "metadata": {
            "tags": []
          },
          "execution_count": 34
        }
      ]
    },
    {
      "cell_type": "code",
      "metadata": {
        "id": "5O-5wi41OTFX",
        "colab_type": "code",
        "outputId": "0ed03e78-f843-4001-da80-27d2e9e5c21f",
        "colab": {
          "base_uri": "https://localhost:8080/",
          "height": 34
        }
      },
      "source": [
        "21065+408"
      ],
      "execution_count": 0,
      "outputs": [
        {
          "output_type": "execute_result",
          "data": {
            "text/plain": [
              "21473"
            ]
          },
          "metadata": {
            "tags": []
          },
          "execution_count": 35
        }
      ]
    },
    {
      "cell_type": "markdown",
      "metadata": {
        "id": "Q-VuAPALOaZj",
        "colab_type": "text"
      },
      "source": [
        "**es_0414.csv**"
      ]
    },
    {
      "cell_type": "code",
      "metadata": {
        "id": "cbBiRcyOOdrU",
        "colab_type": "code",
        "colab": {}
      },
      "source": [
        "df11 = pd.read_csv(\"es_0414.csv\")"
      ],
      "execution_count": 0,
      "outputs": []
    },
    {
      "cell_type": "code",
      "metadata": {
        "id": "O24R9_8OOgzv",
        "colab_type": "code",
        "outputId": "4af89a57-b36e-439b-f976-cdf2ae27bfc5",
        "colab": {
          "base_uri": "https://localhost:8080/",
          "height": 34
        }
      },
      "source": [
        "df11.shape"
      ],
      "execution_count": 0,
      "outputs": [
        {
          "output_type": "execute_result",
          "data": {
            "text/plain": [
              "(354, 90)"
            ]
          },
          "metadata": {
            "tags": []
          },
          "execution_count": 37
        }
      ]
    },
    {
      "cell_type": "code",
      "metadata": {
        "id": "26AZu0N4OsgC",
        "colab_type": "code",
        "colab": {}
      },
      "source": [
        "df12 = pd.concat([df10, df11], axis=0, join='outer', ignore_index=False, keys=None,\n",
        "          levels=None, names=None, verify_integrity=False, copy=True)"
      ],
      "execution_count": 0,
      "outputs": []
    },
    {
      "cell_type": "code",
      "metadata": {
        "id": "f_EgWvmwOwsd",
        "colab_type": "code",
        "outputId": "8bc04b5c-ff38-4cc9-eb3d-fefe6abe259c",
        "colab": {
          "base_uri": "https://localhost:8080/",
          "height": 34
        }
      },
      "source": [
        "df12.shape"
      ],
      "execution_count": 0,
      "outputs": [
        {
          "output_type": "execute_result",
          "data": {
            "text/plain": [
              "(21827, 90)"
            ]
          },
          "metadata": {
            "tags": []
          },
          "execution_count": 39
        }
      ]
    },
    {
      "cell_type": "code",
      "metadata": {
        "id": "jRzfRQc2OyyR",
        "colab_type": "code",
        "outputId": "bcea1c57-bcc3-4b6c-d583-2cb96b6240ba",
        "colab": {
          "base_uri": "https://localhost:8080/",
          "height": 34
        }
      },
      "source": [
        "21473+354"
      ],
      "execution_count": 0,
      "outputs": [
        {
          "output_type": "execute_result",
          "data": {
            "text/plain": [
              "21827"
            ]
          },
          "metadata": {
            "tags": []
          },
          "execution_count": 40
        }
      ]
    },
    {
      "cell_type": "markdown",
      "metadata": {
        "id": "fMq7yPTRO9Yl",
        "colab_type": "text"
      },
      "source": [
        "**es_0415.csv**"
      ]
    },
    {
      "cell_type": "code",
      "metadata": {
        "id": "i_-t535HO6RN",
        "colab_type": "code",
        "colab": {}
      },
      "source": [
        "df13 = pd.read_csv(\"es_0415.csv\")"
      ],
      "execution_count": 0,
      "outputs": []
    },
    {
      "cell_type": "code",
      "metadata": {
        "id": "WjRGdVqoPG8z",
        "colab_type": "code",
        "outputId": "a9fe0283-352e-4711-a77b-c95514f18237",
        "colab": {
          "base_uri": "https://localhost:8080/",
          "height": 34
        }
      },
      "source": [
        "df13.shape"
      ],
      "execution_count": 0,
      "outputs": [
        {
          "output_type": "execute_result",
          "data": {
            "text/plain": [
              "(257, 90)"
            ]
          },
          "metadata": {
            "tags": []
          },
          "execution_count": 42
        }
      ]
    },
    {
      "cell_type": "code",
      "metadata": {
        "id": "7vxbe1dsPR3Z",
        "colab_type": "code",
        "colab": {}
      },
      "source": [
        "df14 = pd.concat([df12, df13], axis=0, join='outer', ignore_index=False, keys=None,\n",
        "          levels=None, names=None, verify_integrity=False, copy=True)"
      ],
      "execution_count": 0,
      "outputs": []
    },
    {
      "cell_type": "code",
      "metadata": {
        "id": "rGVfJ585PX_0",
        "colab_type": "code",
        "outputId": "3f704ad1-fa66-4389-dad4-323a483e7d1d",
        "colab": {
          "base_uri": "https://localhost:8080/",
          "height": 34
        }
      },
      "source": [
        "df14.shape"
      ],
      "execution_count": 0,
      "outputs": [
        {
          "output_type": "execute_result",
          "data": {
            "text/plain": [
              "(22084, 90)"
            ]
          },
          "metadata": {
            "tags": []
          },
          "execution_count": 44
        }
      ]
    },
    {
      "cell_type": "code",
      "metadata": {
        "id": "m5JRQp4kPaun",
        "colab_type": "code",
        "outputId": "9f98e0a4-e34a-4a3d-a829-9fa2a4e3c8ae",
        "colab": {
          "base_uri": "https://localhost:8080/",
          "height": 34
        }
      },
      "source": [
        "21827+257"
      ],
      "execution_count": 0,
      "outputs": [
        {
          "output_type": "execute_result",
          "data": {
            "text/plain": [
              "22084"
            ]
          },
          "metadata": {
            "tags": []
          },
          "execution_count": 45
        }
      ]
    },
    {
      "cell_type": "markdown",
      "metadata": {
        "id": "dtYPkYSMPkDV",
        "colab_type": "text"
      },
      "source": [
        "**es_0416.csv**"
      ]
    },
    {
      "cell_type": "code",
      "metadata": {
        "id": "k0ogol_CPmwL",
        "colab_type": "code",
        "colab": {}
      },
      "source": [
        "df15 = pd.read_csv(\"es_0416.csv\")"
      ],
      "execution_count": 0,
      "outputs": []
    },
    {
      "cell_type": "code",
      "metadata": {
        "id": "9e5P20jVPr0L",
        "colab_type": "code",
        "outputId": "410ba9d8-bbd5-4267-f861-13b8260818d0",
        "colab": {
          "base_uri": "https://localhost:8080/",
          "height": 34
        }
      },
      "source": [
        "df15.shape"
      ],
      "execution_count": 0,
      "outputs": [
        {
          "output_type": "execute_result",
          "data": {
            "text/plain": [
              "(278, 90)"
            ]
          },
          "metadata": {
            "tags": []
          },
          "execution_count": 47
        }
      ]
    },
    {
      "cell_type": "code",
      "metadata": {
        "id": "baC6KnubP0vb",
        "colab_type": "code",
        "colab": {}
      },
      "source": [
        "df16 = pd.concat([df14, df15], axis=0, join='outer', ignore_index=False, keys=None,\n",
        "          levels=None, names=None, verify_integrity=False, copy=True)"
      ],
      "execution_count": 0,
      "outputs": []
    },
    {
      "cell_type": "code",
      "metadata": {
        "id": "M5EXeKlHP4ZQ",
        "colab_type": "code",
        "outputId": "d2b7e1b7-1564-45a7-e53a-dba34213bca7",
        "colab": {
          "base_uri": "https://localhost:8080/",
          "height": 34
        }
      },
      "source": [
        "df16.shape"
      ],
      "execution_count": 0,
      "outputs": [
        {
          "output_type": "execute_result",
          "data": {
            "text/plain": [
              "(22362, 90)"
            ]
          },
          "metadata": {
            "tags": []
          },
          "execution_count": 49
        }
      ]
    },
    {
      "cell_type": "code",
      "metadata": {
        "id": "yRMNA3GRP6WF",
        "colab_type": "code",
        "outputId": "6b8e59b4-0eb6-44a4-c55b-f054eb2ef9b9",
        "colab": {
          "base_uri": "https://localhost:8080/",
          "height": 34
        }
      },
      "source": [
        "22084+278"
      ],
      "execution_count": 0,
      "outputs": [
        {
          "output_type": "execute_result",
          "data": {
            "text/plain": [
              "22362"
            ]
          },
          "metadata": {
            "tags": []
          },
          "execution_count": 50
        }
      ]
    },
    {
      "cell_type": "markdown",
      "metadata": {
        "id": "2zmf_o0bQAv4",
        "colab_type": "text"
      },
      "source": [
        "**es_1722**: tweet dal 17-04-2020 al 21-04-2020"
      ]
    },
    {
      "cell_type": "code",
      "metadata": {
        "id": "KqTAIoSnQHUQ",
        "colab_type": "code",
        "colab": {}
      },
      "source": [
        "df17 = pd.read_csv(\"es_1722.csv\")"
      ],
      "execution_count": 0,
      "outputs": []
    },
    {
      "cell_type": "code",
      "metadata": {
        "id": "E9AzGKdrQLl4",
        "colab_type": "code",
        "outputId": "53f6df75-f95f-4bce-c5e9-834e05088803",
        "colab": {
          "base_uri": "https://localhost:8080/",
          "height": 34
        }
      },
      "source": [
        "df17.shape"
      ],
      "execution_count": 0,
      "outputs": [
        {
          "output_type": "execute_result",
          "data": {
            "text/plain": [
              "(935, 90)"
            ]
          },
          "metadata": {
            "tags": []
          },
          "execution_count": 52
        }
      ]
    },
    {
      "cell_type": "code",
      "metadata": {
        "id": "GZM3h-67QYJc",
        "colab_type": "code",
        "colab": {}
      },
      "source": [
        "tweet_es = pd.concat([df16, df17], axis=0, join='outer', ignore_index=False, keys=None,\n",
        "          levels=None, names=None, verify_integrity=False, copy=True)"
      ],
      "execution_count": 0,
      "outputs": []
    },
    {
      "cell_type": "code",
      "metadata": {
        "id": "BGd8DnlaQk7n",
        "colab_type": "code",
        "outputId": "3ec21ff2-d7d6-40a4-9f1c-635f4c34513d",
        "colab": {
          "base_uri": "https://localhost:8080/",
          "height": 34
        }
      },
      "source": [
        "tweet_es.shape"
      ],
      "execution_count": 0,
      "outputs": [
        {
          "output_type": "execute_result",
          "data": {
            "text/plain": [
              "(23297, 90)"
            ]
          },
          "metadata": {
            "tags": []
          },
          "execution_count": 60
        }
      ]
    },
    {
      "cell_type": "code",
      "metadata": {
        "id": "APZ_HSs3Qnuz",
        "colab_type": "code",
        "outputId": "7c8948bd-9f2f-4a76-905a-d1fbcf3a3ab5",
        "colab": {
          "base_uri": "https://localhost:8080/",
          "height": 34
        }
      },
      "source": [
        "935+22362"
      ],
      "execution_count": 0,
      "outputs": [
        {
          "output_type": "execute_result",
          "data": {
            "text/plain": [
              "23297"
            ]
          },
          "metadata": {
            "tags": []
          },
          "execution_count": 56
        }
      ]
    },
    {
      "cell_type": "code",
      "metadata": {
        "id": "fbfkBxUXQ-SH",
        "colab_type": "code",
        "colab": {}
      },
      "source": [
        "tweet_es = tweet_es.reset_index(drop=True)"
      ],
      "execution_count": 0,
      "outputs": []
    },
    {
      "cell_type": "code",
      "metadata": {
        "id": "Up5SZbB2RebL",
        "colab_type": "code",
        "outputId": "27675df0-b19e-48b3-ebbd-008a262850c0",
        "colab": {
          "base_uri": "https://localhost:8080/",
          "height": 34
        }
      },
      "source": [
        "tweet_es.shape"
      ],
      "execution_count": 0,
      "outputs": [
        {
          "output_type": "execute_result",
          "data": {
            "text/plain": [
              "(23297, 90)"
            ]
          },
          "metadata": {
            "tags": []
          },
          "execution_count": 67
        }
      ]
    },
    {
      "cell_type": "code",
      "metadata": {
        "id": "e_Dj4AzURgHJ",
        "colab_type": "code",
        "outputId": "0817babe-b6be-4533-a2a5-5753f6d503db",
        "colab": {
          "base_uri": "https://localhost:8080/",
          "height": 525
        }
      },
      "source": [
        "tweet_es.tail()"
      ],
      "execution_count": 0,
      "outputs": [
        {
          "output_type": "execute_result",
          "data": {
            "text/html": [
              "<div>\n",
              "<style scoped>\n",
              "    .dataframe tbody tr th:only-of-type {\n",
              "        vertical-align: middle;\n",
              "    }\n",
              "\n",
              "    .dataframe tbody tr th {\n",
              "        vertical-align: top;\n",
              "    }\n",
              "\n",
              "    .dataframe thead th {\n",
              "        text-align: right;\n",
              "    }\n",
              "</style>\n",
              "<table border=\"1\" class=\"dataframe\">\n",
              "  <thead>\n",
              "    <tr style=\"text-align: right;\">\n",
              "      <th></th>\n",
              "      <th>user_id</th>\n",
              "      <th>status_id</th>\n",
              "      <th>created_at</th>\n",
              "      <th>screen_name</th>\n",
              "      <th>text</th>\n",
              "      <th>source</th>\n",
              "      <th>display_text_width</th>\n",
              "      <th>reply_to_status_id</th>\n",
              "      <th>reply_to_user_id</th>\n",
              "      <th>reply_to_screen_name</th>\n",
              "      <th>is_quote</th>\n",
              "      <th>is_retweet</th>\n",
              "      <th>favorite_count</th>\n",
              "      <th>retweet_count</th>\n",
              "      <th>quote_count</th>\n",
              "      <th>reply_count</th>\n",
              "      <th>hashtags</th>\n",
              "      <th>symbols</th>\n",
              "      <th>urls_url</th>\n",
              "      <th>urls_t.co</th>\n",
              "      <th>urls_expanded_url</th>\n",
              "      <th>media_url</th>\n",
              "      <th>media_t.co</th>\n",
              "      <th>media_expanded_url</th>\n",
              "      <th>media_type</th>\n",
              "      <th>ext_media_url</th>\n",
              "      <th>ext_media_t.co</th>\n",
              "      <th>ext_media_expanded_url</th>\n",
              "      <th>ext_media_type</th>\n",
              "      <th>mentions_user_id</th>\n",
              "      <th>mentions_screen_name</th>\n",
              "      <th>lang</th>\n",
              "      <th>quoted_status_id</th>\n",
              "      <th>quoted_text</th>\n",
              "      <th>quoted_created_at</th>\n",
              "      <th>quoted_source</th>\n",
              "      <th>quoted_favorite_count</th>\n",
              "      <th>quoted_retweet_count</th>\n",
              "      <th>quoted_user_id</th>\n",
              "      <th>quoted_screen_name</th>\n",
              "      <th>...</th>\n",
              "      <th>retweet_source</th>\n",
              "      <th>retweet_favorite_count</th>\n",
              "      <th>retweet_retweet_count</th>\n",
              "      <th>retweet_user_id</th>\n",
              "      <th>retweet_screen_name</th>\n",
              "      <th>retweet_name</th>\n",
              "      <th>retweet_followers_count</th>\n",
              "      <th>retweet_friends_count</th>\n",
              "      <th>retweet_statuses_count</th>\n",
              "      <th>retweet_location</th>\n",
              "      <th>retweet_description</th>\n",
              "      <th>retweet_verified</th>\n",
              "      <th>place_url</th>\n",
              "      <th>place_name</th>\n",
              "      <th>place_full_name</th>\n",
              "      <th>place_type</th>\n",
              "      <th>country</th>\n",
              "      <th>country_code</th>\n",
              "      <th>geo_coords</th>\n",
              "      <th>coords_coords</th>\n",
              "      <th>bbox_coords</th>\n",
              "      <th>status_url</th>\n",
              "      <th>name</th>\n",
              "      <th>location</th>\n",
              "      <th>description</th>\n",
              "      <th>url</th>\n",
              "      <th>protected</th>\n",
              "      <th>followers_count</th>\n",
              "      <th>friends_count</th>\n",
              "      <th>listed_count</th>\n",
              "      <th>statuses_count</th>\n",
              "      <th>favourites_count</th>\n",
              "      <th>account_created_at</th>\n",
              "      <th>verified</th>\n",
              "      <th>profile_url</th>\n",
              "      <th>profile_expanded_url</th>\n",
              "      <th>account_lang</th>\n",
              "      <th>profile_banner_url</th>\n",
              "      <th>profile_background_url</th>\n",
              "      <th>profile_image_url</th>\n",
              "    </tr>\n",
              "  </thead>\n",
              "  <tbody>\n",
              "    <tr>\n",
              "      <th>23292</th>\n",
              "      <td>x57735690</td>\n",
              "      <td>x1250938945636118530</td>\n",
              "      <td>2020-04-17 00:07:40</td>\n",
              "      <td>mlpallais</td>\n",
              "      <td>Solo por este texto de @jgomezsantander y solo...</td>\n",
              "      <td>Twitter Web App</td>\n",
              "      <td>198</td>\n",
              "      <td>NaN</td>\n",
              "      <td>NaN</td>\n",
              "      <td>NaN</td>\n",
              "      <td>True</td>\n",
              "      <td>False</td>\n",
              "      <td>0</td>\n",
              "      <td>0</td>\n",
              "      <td>NaN</td>\n",
              "      <td>NaN</td>\n",
              "      <td>Venezuela lacasadepapel Netflix</td>\n",
              "      <td>NaN</td>\n",
              "      <td>twitter.com/lafuentejavi/s…</td>\n",
              "      <td>https://t.co/0OfQgTvfp0</td>\n",
              "      <td>https://twitter.com/lafuentejavi/status/125092...</td>\n",
              "      <td>NaN</td>\n",
              "      <td>NaN</td>\n",
              "      <td>NaN</td>\n",
              "      <td>NaN</td>\n",
              "      <td>NaN</td>\n",
              "      <td>NaN</td>\n",
              "      <td>NaN</td>\n",
              "      <td>NaN</td>\n",
              "      <td>x185408173 x1252764865</td>\n",
              "      <td>jgomezsantander NicolasMaduro</td>\n",
              "      <td>es</td>\n",
              "      <td>x1250920646437228545</td>\n",
              "      <td>\"Es curioso cómo puedes tener vocación de crít...</td>\n",
              "      <td>2020-04-16 22:54:57</td>\n",
              "      <td>Twitter Web App</td>\n",
              "      <td>9.0</td>\n",
              "      <td>0.0</td>\n",
              "      <td>x195583426</td>\n",
              "      <td>lafuentejavi</td>\n",
              "      <td>...</td>\n",
              "      <td>NaN</td>\n",
              "      <td>NaN</td>\n",
              "      <td>NaN</td>\n",
              "      <td>NaN</td>\n",
              "      <td>NaN</td>\n",
              "      <td>NaN</td>\n",
              "      <td>NaN</td>\n",
              "      <td>NaN</td>\n",
              "      <td>NaN</td>\n",
              "      <td>NaN</td>\n",
              "      <td>NaN</td>\n",
              "      <td>NaN</td>\n",
              "      <td>NaN</td>\n",
              "      <td>NaN</td>\n",
              "      <td>NaN</td>\n",
              "      <td>NaN</td>\n",
              "      <td>NaN</td>\n",
              "      <td>NaN</td>\n",
              "      <td>NA NA</td>\n",
              "      <td>NA NA</td>\n",
              "      <td>NA NA NA NA NA NA NA NA</td>\n",
              "      <td>https://twitter.com/mlpallais/status/125093894...</td>\n",
              "      <td>Ma. Lourdes Pallais</td>\n",
              "      <td>Mexico</td>\n",
              "      <td>Periodista independiente.</td>\n",
              "      <td>https://t.co/UyKixQogJF</td>\n",
              "      <td>False</td>\n",
              "      <td>1442</td>\n",
              "      <td>1330</td>\n",
              "      <td>67</td>\n",
              "      <td>21029</td>\n",
              "      <td>20346</td>\n",
              "      <td>2009-07-17 19:40:43</td>\n",
              "      <td>False</td>\n",
              "      <td>https://t.co/UyKixQogJF</td>\n",
              "      <td>http://pallaismar.blogspot.com</td>\n",
              "      <td>NaN</td>\n",
              "      <td>https://pbs.twimg.com/profile_banners/57735690...</td>\n",
              "      <td>http://abs.twimg.com/images/themes/theme14/bg.gif</td>\n",
              "      <td>http://pbs.twimg.com/profile_images/1222710168...</td>\n",
              "    </tr>\n",
              "    <tr>\n",
              "      <th>23293</th>\n",
              "      <td>x56753266</td>\n",
              "      <td>x1250937054067920896</td>\n",
              "      <td>2020-04-17 00:00:09</td>\n",
              "      <td>Guini11</td>\n",
              "      <td>Lo que no vemos es también lo que más nos obse...</td>\n",
              "      <td>Twitter Web App</td>\n",
              "      <td>136</td>\n",
              "      <td>NaN</td>\n",
              "      <td>NaN</td>\n",
              "      <td>NaN</td>\n",
              "      <td>False</td>\n",
              "      <td>False</td>\n",
              "      <td>0</td>\n",
              "      <td>0</td>\n",
              "      <td>NaN</td>\n",
              "      <td>NaN</td>\n",
              "      <td>LaCasaDePapel</td>\n",
              "      <td>NaN</td>\n",
              "      <td>NaN</td>\n",
              "      <td>NaN</td>\n",
              "      <td>NaN</td>\n",
              "      <td>NaN</td>\n",
              "      <td>NaN</td>\n",
              "      <td>NaN</td>\n",
              "      <td>NaN</td>\n",
              "      <td>NaN</td>\n",
              "      <td>NaN</td>\n",
              "      <td>NaN</td>\n",
              "      <td>NaN</td>\n",
              "      <td>NaN</td>\n",
              "      <td>NaN</td>\n",
              "      <td>es</td>\n",
              "      <td>NaN</td>\n",
              "      <td>NaN</td>\n",
              "      <td>NaN</td>\n",
              "      <td>NaN</td>\n",
              "      <td>NaN</td>\n",
              "      <td>NaN</td>\n",
              "      <td>NaN</td>\n",
              "      <td>NaN</td>\n",
              "      <td>...</td>\n",
              "      <td>NaN</td>\n",
              "      <td>NaN</td>\n",
              "      <td>NaN</td>\n",
              "      <td>NaN</td>\n",
              "      <td>NaN</td>\n",
              "      <td>NaN</td>\n",
              "      <td>NaN</td>\n",
              "      <td>NaN</td>\n",
              "      <td>NaN</td>\n",
              "      <td>NaN</td>\n",
              "      <td>NaN</td>\n",
              "      <td>NaN</td>\n",
              "      <td>NaN</td>\n",
              "      <td>NaN</td>\n",
              "      <td>NaN</td>\n",
              "      <td>NaN</td>\n",
              "      <td>NaN</td>\n",
              "      <td>NaN</td>\n",
              "      <td>NA NA</td>\n",
              "      <td>NA NA</td>\n",
              "      <td>NA NA NA NA NA NA NA NA</td>\n",
              "      <td>https://twitter.com/Guini11/status/12509370540...</td>\n",
              "      <td>Alf®edo Co®tez™</td>\n",
              "      <td>Nicaragua</td>\n",
              "      <td>Simplemente levantarse, sacudirse y volver a i...</td>\n",
              "      <td>NaN</td>\n",
              "      <td>False</td>\n",
              "      <td>781</td>\n",
              "      <td>1569</td>\n",
              "      <td>2</td>\n",
              "      <td>27277</td>\n",
              "      <td>6125</td>\n",
              "      <td>2009-07-14 17:16:38</td>\n",
              "      <td>False</td>\n",
              "      <td>NaN</td>\n",
              "      <td>NaN</td>\n",
              "      <td>NaN</td>\n",
              "      <td>https://pbs.twimg.com/profile_banners/56753266...</td>\n",
              "      <td>http://abs.twimg.com/images/themes/theme14/bg.gif</td>\n",
              "      <td>http://pbs.twimg.com/profile_images/1210647015...</td>\n",
              "    </tr>\n",
              "    <tr>\n",
              "      <th>23294</th>\n",
              "      <td>x56753266</td>\n",
              "      <td>x1250937054067920896</td>\n",
              "      <td>2020-04-17 00:00:09</td>\n",
              "      <td>Guini11</td>\n",
              "      <td>Lo que no vemos es también lo que más nos obse...</td>\n",
              "      <td>Twitter Web App</td>\n",
              "      <td>136</td>\n",
              "      <td>NaN</td>\n",
              "      <td>NaN</td>\n",
              "      <td>NaN</td>\n",
              "      <td>False</td>\n",
              "      <td>False</td>\n",
              "      <td>0</td>\n",
              "      <td>0</td>\n",
              "      <td>NaN</td>\n",
              "      <td>NaN</td>\n",
              "      <td>LaCasaDePapel</td>\n",
              "      <td>NaN</td>\n",
              "      <td>NaN</td>\n",
              "      <td>NaN</td>\n",
              "      <td>NaN</td>\n",
              "      <td>NaN</td>\n",
              "      <td>NaN</td>\n",
              "      <td>NaN</td>\n",
              "      <td>NaN</td>\n",
              "      <td>NaN</td>\n",
              "      <td>NaN</td>\n",
              "      <td>NaN</td>\n",
              "      <td>NaN</td>\n",
              "      <td>NaN</td>\n",
              "      <td>NaN</td>\n",
              "      <td>es</td>\n",
              "      <td>NaN</td>\n",
              "      <td>NaN</td>\n",
              "      <td>NaN</td>\n",
              "      <td>NaN</td>\n",
              "      <td>NaN</td>\n",
              "      <td>NaN</td>\n",
              "      <td>NaN</td>\n",
              "      <td>NaN</td>\n",
              "      <td>...</td>\n",
              "      <td>NaN</td>\n",
              "      <td>NaN</td>\n",
              "      <td>NaN</td>\n",
              "      <td>NaN</td>\n",
              "      <td>NaN</td>\n",
              "      <td>NaN</td>\n",
              "      <td>NaN</td>\n",
              "      <td>NaN</td>\n",
              "      <td>NaN</td>\n",
              "      <td>NaN</td>\n",
              "      <td>NaN</td>\n",
              "      <td>NaN</td>\n",
              "      <td>NaN</td>\n",
              "      <td>NaN</td>\n",
              "      <td>NaN</td>\n",
              "      <td>NaN</td>\n",
              "      <td>NaN</td>\n",
              "      <td>NaN</td>\n",
              "      <td>NA NA</td>\n",
              "      <td>NA NA</td>\n",
              "      <td>NA NA NA NA NA NA NA NA</td>\n",
              "      <td>https://twitter.com/Guini11/status/12509370540...</td>\n",
              "      <td>Alf®edo Co®tez™</td>\n",
              "      <td>Nicaragua</td>\n",
              "      <td>Simplemente levantarse, sacudirse y volver a i...</td>\n",
              "      <td>NaN</td>\n",
              "      <td>False</td>\n",
              "      <td>781</td>\n",
              "      <td>1569</td>\n",
              "      <td>2</td>\n",
              "      <td>27277</td>\n",
              "      <td>6125</td>\n",
              "      <td>2009-07-14 17:16:38</td>\n",
              "      <td>False</td>\n",
              "      <td>NaN</td>\n",
              "      <td>NaN</td>\n",
              "      <td>NaN</td>\n",
              "      <td>https://pbs.twimg.com/profile_banners/56753266...</td>\n",
              "      <td>http://abs.twimg.com/images/themes/theme14/bg.gif</td>\n",
              "      <td>http://pbs.twimg.com/profile_images/1210647015...</td>\n",
              "    </tr>\n",
              "    <tr>\n",
              "      <th>23295</th>\n",
              "      <td>x1148442528137515009</td>\n",
              "      <td>x1250937017707290624</td>\n",
              "      <td>2020-04-17 00:00:00</td>\n",
              "      <td>spoilersmx</td>\n",
              "      <td>#LaCasaDePapel Teorías señalan que Alicia Sier...</td>\n",
              "      <td>TweetDeck</td>\n",
              "      <td>227</td>\n",
              "      <td>NaN</td>\n",
              "      <td>NaN</td>\n",
              "      <td>NaN</td>\n",
              "      <td>False</td>\n",
              "      <td>False</td>\n",
              "      <td>1</td>\n",
              "      <td>1</td>\n",
              "      <td>NaN</td>\n",
              "      <td>NaN</td>\n",
              "      <td>LaCasaDePapel LCDP4 SpoilersMx</td>\n",
              "      <td>NaN</td>\n",
              "      <td>desdelacuna.net/series/german-…</td>\n",
              "      <td>https://t.co/XerRVa5R81</td>\n",
              "      <td>https://www.desdelacuna.net/series/german-la-c...</td>\n",
              "      <td>NaN</td>\n",
              "      <td>NaN</td>\n",
              "      <td>NaN</td>\n",
              "      <td>NaN</td>\n",
              "      <td>NaN</td>\n",
              "      <td>NaN</td>\n",
              "      <td>NaN</td>\n",
              "      <td>NaN</td>\n",
              "      <td>NaN</td>\n",
              "      <td>NaN</td>\n",
              "      <td>es</td>\n",
              "      <td>NaN</td>\n",
              "      <td>NaN</td>\n",
              "      <td>NaN</td>\n",
              "      <td>NaN</td>\n",
              "      <td>NaN</td>\n",
              "      <td>NaN</td>\n",
              "      <td>NaN</td>\n",
              "      <td>NaN</td>\n",
              "      <td>...</td>\n",
              "      <td>NaN</td>\n",
              "      <td>NaN</td>\n",
              "      <td>NaN</td>\n",
              "      <td>NaN</td>\n",
              "      <td>NaN</td>\n",
              "      <td>NaN</td>\n",
              "      <td>NaN</td>\n",
              "      <td>NaN</td>\n",
              "      <td>NaN</td>\n",
              "      <td>NaN</td>\n",
              "      <td>NaN</td>\n",
              "      <td>NaN</td>\n",
              "      <td>NaN</td>\n",
              "      <td>NaN</td>\n",
              "      <td>NaN</td>\n",
              "      <td>NaN</td>\n",
              "      <td>NaN</td>\n",
              "      <td>NaN</td>\n",
              "      <td>NA NA</td>\n",
              "      <td>NA NA</td>\n",
              "      <td>NA NA NA NA NA NA NA NA</td>\n",
              "      <td>https://twitter.com/spoilersmx/status/12509370...</td>\n",
              "      <td>Spoilers</td>\n",
              "      <td>CDMX</td>\n",
              "      <td>Sitio de entretenimiento. Series, películas y ...</td>\n",
              "      <td>https://t.co/isRXl5WFHI</td>\n",
              "      <td>False</td>\n",
              "      <td>40</td>\n",
              "      <td>11</td>\n",
              "      <td>0</td>\n",
              "      <td>686</td>\n",
              "      <td>77</td>\n",
              "      <td>2019-07-09 04:03:30</td>\n",
              "      <td>False</td>\n",
              "      <td>https://t.co/isRXl5WFHI</td>\n",
              "      <td>http://spoilers.mx</td>\n",
              "      <td>NaN</td>\n",
              "      <td>https://pbs.twimg.com/profile_banners/11484425...</td>\n",
              "      <td>NaN</td>\n",
              "      <td>http://pbs.twimg.com/profile_images/1217604468...</td>\n",
              "    </tr>\n",
              "    <tr>\n",
              "      <th>23296</th>\n",
              "      <td>x1148442528137515009</td>\n",
              "      <td>x1250937017707290624</td>\n",
              "      <td>2020-04-17 00:00:00</td>\n",
              "      <td>spoilersmx</td>\n",
              "      <td>#LaCasaDePapel Teorías señalan que Alicia Sier...</td>\n",
              "      <td>TweetDeck</td>\n",
              "      <td>227</td>\n",
              "      <td>NaN</td>\n",
              "      <td>NaN</td>\n",
              "      <td>NaN</td>\n",
              "      <td>False</td>\n",
              "      <td>False</td>\n",
              "      <td>1</td>\n",
              "      <td>1</td>\n",
              "      <td>NaN</td>\n",
              "      <td>NaN</td>\n",
              "      <td>LaCasaDePapel LCDP4 SpoilersMx</td>\n",
              "      <td>NaN</td>\n",
              "      <td>desdelacuna.net/series/german-…</td>\n",
              "      <td>https://t.co/XerRVa5R81</td>\n",
              "      <td>https://www.desdelacuna.net/series/german-la-c...</td>\n",
              "      <td>NaN</td>\n",
              "      <td>NaN</td>\n",
              "      <td>NaN</td>\n",
              "      <td>NaN</td>\n",
              "      <td>NaN</td>\n",
              "      <td>NaN</td>\n",
              "      <td>NaN</td>\n",
              "      <td>NaN</td>\n",
              "      <td>NaN</td>\n",
              "      <td>NaN</td>\n",
              "      <td>es</td>\n",
              "      <td>NaN</td>\n",
              "      <td>NaN</td>\n",
              "      <td>NaN</td>\n",
              "      <td>NaN</td>\n",
              "      <td>NaN</td>\n",
              "      <td>NaN</td>\n",
              "      <td>NaN</td>\n",
              "      <td>NaN</td>\n",
              "      <td>...</td>\n",
              "      <td>NaN</td>\n",
              "      <td>NaN</td>\n",
              "      <td>NaN</td>\n",
              "      <td>NaN</td>\n",
              "      <td>NaN</td>\n",
              "      <td>NaN</td>\n",
              "      <td>NaN</td>\n",
              "      <td>NaN</td>\n",
              "      <td>NaN</td>\n",
              "      <td>NaN</td>\n",
              "      <td>NaN</td>\n",
              "      <td>NaN</td>\n",
              "      <td>NaN</td>\n",
              "      <td>NaN</td>\n",
              "      <td>NaN</td>\n",
              "      <td>NaN</td>\n",
              "      <td>NaN</td>\n",
              "      <td>NaN</td>\n",
              "      <td>NA NA</td>\n",
              "      <td>NA NA</td>\n",
              "      <td>NA NA NA NA NA NA NA NA</td>\n",
              "      <td>https://twitter.com/spoilersmx/status/12509370...</td>\n",
              "      <td>Spoilers</td>\n",
              "      <td>CDMX</td>\n",
              "      <td>Sitio de entretenimiento. Series, películas y ...</td>\n",
              "      <td>https://t.co/isRXl5WFHI</td>\n",
              "      <td>False</td>\n",
              "      <td>40</td>\n",
              "      <td>11</td>\n",
              "      <td>0</td>\n",
              "      <td>686</td>\n",
              "      <td>77</td>\n",
              "      <td>2019-07-09 04:03:30</td>\n",
              "      <td>False</td>\n",
              "      <td>https://t.co/isRXl5WFHI</td>\n",
              "      <td>http://spoilers.mx</td>\n",
              "      <td>NaN</td>\n",
              "      <td>https://pbs.twimg.com/profile_banners/11484425...</td>\n",
              "      <td>NaN</td>\n",
              "      <td>http://pbs.twimg.com/profile_images/1217604468...</td>\n",
              "    </tr>\n",
              "  </tbody>\n",
              "</table>\n",
              "<p>5 rows × 90 columns</p>\n",
              "</div>"
            ],
            "text/plain": [
              "                    user_id  ...                                  profile_image_url\n",
              "23292             x57735690  ...  http://pbs.twimg.com/profile_images/1222710168...\n",
              "23293             x56753266  ...  http://pbs.twimg.com/profile_images/1210647015...\n",
              "23294             x56753266  ...  http://pbs.twimg.com/profile_images/1210647015...\n",
              "23295  x1148442528137515009  ...  http://pbs.twimg.com/profile_images/1217604468...\n",
              "23296  x1148442528137515009  ...  http://pbs.twimg.com/profile_images/1217604468...\n",
              "\n",
              "[5 rows x 90 columns]"
            ]
          },
          "metadata": {
            "tags": []
          },
          "execution_count": 69
        }
      ]
    },
    {
      "cell_type": "code",
      "metadata": {
        "id": "4KLFaWQ8UGl9",
        "colab_type": "code",
        "colab": {}
      },
      "source": [
        "prova = tweet_es[['user_id', 'status_id', 'created_at', 'screen_name', 'text', 'source',\n",
        "                  'display_text_width', 'favorite_count', 'retweet_count',\n",
        "                  'hashtags']]"
      ],
      "execution_count": 0,
      "outputs": []
    },
    {
      "cell_type": "code",
      "metadata": {
        "id": "AqcRk1u9VUY3",
        "colab_type": "code",
        "colab": {}
      },
      "source": [
        "prova.to_csv('tweet_es.csv', index = False, sep = ',')"
      ],
      "execution_count": 0,
      "outputs": []
    },
    {
      "cell_type": "code",
      "metadata": {
        "id": "LexZkUZAVfiV",
        "colab_type": "code",
        "colab": {}
      },
      "source": [
        "a = pd.read_csv(\"tweet_es.csv\")"
      ],
      "execution_count": 0,
      "outputs": []
    },
    {
      "cell_type": "code",
      "metadata": {
        "id": "-N_JWe8bVlY-",
        "colab_type": "code",
        "outputId": "0ee00e17-6d61-454a-fd04-274cff83de16",
        "colab": {
          "base_uri": "https://localhost:8080/",
          "height": 34
        }
      },
      "source": [
        "a.shape"
      ],
      "execution_count": 0,
      "outputs": [
        {
          "output_type": "execute_result",
          "data": {
            "text/plain": [
              "(23297, 10)"
            ]
          },
          "metadata": {
            "tags": []
          },
          "execution_count": 113
        }
      ]
    },
    {
      "cell_type": "code",
      "metadata": {
        "id": "PRzOsoEdVoEg",
        "colab_type": "code",
        "outputId": "6538c3e8-c148-4968-c100-482c3e03c8ca",
        "colab": {
          "base_uri": "https://localhost:8080/",
          "height": 411
        }
      },
      "source": [
        "a.tail()"
      ],
      "execution_count": 0,
      "outputs": [
        {
          "output_type": "execute_result",
          "data": {
            "text/html": [
              "<div>\n",
              "<style scoped>\n",
              "    .dataframe tbody tr th:only-of-type {\n",
              "        vertical-align: middle;\n",
              "    }\n",
              "\n",
              "    .dataframe tbody tr th {\n",
              "        vertical-align: top;\n",
              "    }\n",
              "\n",
              "    .dataframe thead th {\n",
              "        text-align: right;\n",
              "    }\n",
              "</style>\n",
              "<table border=\"1\" class=\"dataframe\">\n",
              "  <thead>\n",
              "    <tr style=\"text-align: right;\">\n",
              "      <th></th>\n",
              "      <th>user_id</th>\n",
              "      <th>status_id</th>\n",
              "      <th>created_at</th>\n",
              "      <th>screen_name</th>\n",
              "      <th>text</th>\n",
              "      <th>source</th>\n",
              "      <th>display_text_width</th>\n",
              "      <th>favorite_count</th>\n",
              "      <th>retweet_count</th>\n",
              "      <th>hashtags</th>\n",
              "    </tr>\n",
              "  </thead>\n",
              "  <tbody>\n",
              "    <tr>\n",
              "      <th>23292</th>\n",
              "      <td>x57735690</td>\n",
              "      <td>x1250938945636118530</td>\n",
              "      <td>2020-04-17 00:07:40</td>\n",
              "      <td>mlpallais</td>\n",
              "      <td>Solo por este texto de @jgomezsantander y solo...</td>\n",
              "      <td>Twitter Web App</td>\n",
              "      <td>198</td>\n",
              "      <td>0</td>\n",
              "      <td>0</td>\n",
              "      <td>Venezuela lacasadepapel Netflix</td>\n",
              "    </tr>\n",
              "    <tr>\n",
              "      <th>23293</th>\n",
              "      <td>x56753266</td>\n",
              "      <td>x1250937054067920896</td>\n",
              "      <td>2020-04-17 00:00:09</td>\n",
              "      <td>Guini11</td>\n",
              "      <td>Lo que no vemos es también lo que más nos obse...</td>\n",
              "      <td>Twitter Web App</td>\n",
              "      <td>136</td>\n",
              "      <td>0</td>\n",
              "      <td>0</td>\n",
              "      <td>LaCasaDePapel</td>\n",
              "    </tr>\n",
              "    <tr>\n",
              "      <th>23294</th>\n",
              "      <td>x56753266</td>\n",
              "      <td>x1250937054067920896</td>\n",
              "      <td>2020-04-17 00:00:09</td>\n",
              "      <td>Guini11</td>\n",
              "      <td>Lo que no vemos es también lo que más nos obse...</td>\n",
              "      <td>Twitter Web App</td>\n",
              "      <td>136</td>\n",
              "      <td>0</td>\n",
              "      <td>0</td>\n",
              "      <td>LaCasaDePapel</td>\n",
              "    </tr>\n",
              "    <tr>\n",
              "      <th>23295</th>\n",
              "      <td>x1148442528137515009</td>\n",
              "      <td>x1250937017707290624</td>\n",
              "      <td>2020-04-17 00:00:00</td>\n",
              "      <td>spoilersmx</td>\n",
              "      <td>#LaCasaDePapel Teorías señalan que Alicia Sier...</td>\n",
              "      <td>TweetDeck</td>\n",
              "      <td>227</td>\n",
              "      <td>1</td>\n",
              "      <td>1</td>\n",
              "      <td>LaCasaDePapel LCDP4 SpoilersMx</td>\n",
              "    </tr>\n",
              "    <tr>\n",
              "      <th>23296</th>\n",
              "      <td>x1148442528137515009</td>\n",
              "      <td>x1250937017707290624</td>\n",
              "      <td>2020-04-17 00:00:00</td>\n",
              "      <td>spoilersmx</td>\n",
              "      <td>#LaCasaDePapel Teorías señalan que Alicia Sier...</td>\n",
              "      <td>TweetDeck</td>\n",
              "      <td>227</td>\n",
              "      <td>1</td>\n",
              "      <td>1</td>\n",
              "      <td>LaCasaDePapel LCDP4 SpoilersMx</td>\n",
              "    </tr>\n",
              "  </tbody>\n",
              "</table>\n",
              "</div>"
            ],
            "text/plain": [
              "                    user_id  ...                         hashtags\n",
              "23292             x57735690  ...  Venezuela lacasadepapel Netflix\n",
              "23293             x56753266  ...                    LaCasaDePapel\n",
              "23294             x56753266  ...                    LaCasaDePapel\n",
              "23295  x1148442528137515009  ...   LaCasaDePapel LCDP4 SpoilersMx\n",
              "23296  x1148442528137515009  ...   LaCasaDePapel LCDP4 SpoilersMx\n",
              "\n",
              "[5 rows x 10 columns]"
            ]
          },
          "metadata": {
            "tags": []
          },
          "execution_count": 115
        }
      ]
    }
  ]
}