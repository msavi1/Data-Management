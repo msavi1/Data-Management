{
  "nbformat": 4,
  "nbformat_minor": 0,
  "metadata": {
    "colab": {
      "name": "Tweet_it.ipynb",
      "provenance": [],
      "collapsed_sections": []
    },
    "kernelspec": {
      "name": "python3",
      "display_name": "Python 3"
    }
  },
  "cells": [
    {
      "cell_type": "markdown",
      "metadata": {
        "id": "kMc5Y6ZorvUt",
        "colab_type": "text"
      },
      "source": [
        "## TWEET ITALIANI LDCP"
      ]
    },
    {
      "cell_type": "code",
      "metadata": {
        "id": "OTgeGP24rzZk",
        "colab_type": "code",
        "colab": {}
      },
      "source": [
        "import pandas as pd"
      ],
      "execution_count": 0,
      "outputs": []
    },
    {
      "cell_type": "code",
      "metadata": {
        "id": "vyEm9t7Yr4qa",
        "colab_type": "code",
        "colab": {}
      },
      "source": [
        "df = pd.read_csv(\"ita.csv\")"
      ],
      "execution_count": 0,
      "outputs": []
    },
    {
      "cell_type": "code",
      "metadata": {
        "id": "J-Zpemhdr8bb",
        "colab_type": "code",
        "colab": {
          "base_uri": "https://localhost:8080/",
          "height": 34
        },
        "outputId": "b29fabcd-a9aa-45a5-8a4b-8b2a1ab07eff"
      },
      "source": [
        "df.shape"
      ],
      "execution_count": 3,
      "outputs": [
        {
          "output_type": "execute_result",
          "data": {
            "text/plain": [
              "(3361, 90)"
            ]
          },
          "metadata": {
            "tags": []
          },
          "execution_count": 3
        }
      ]
    },
    {
      "cell_type": "code",
      "metadata": {
        "id": "63yxkcWpr_U9",
        "colab_type": "code",
        "colab": {}
      },
      "source": [
        "indexNames = df[df.created_at.str.contains('2020-04-09')].index"
      ],
      "execution_count": 0,
      "outputs": []
    },
    {
      "cell_type": "code",
      "metadata": {
        "id": "kvnoKUeZsBvR",
        "colab_type": "code",
        "colab": {}
      },
      "source": [
        "df = df.drop(indexNames)"
      ],
      "execution_count": 0,
      "outputs": []
    },
    {
      "cell_type": "code",
      "metadata": {
        "id": "csxWDReVsDgC",
        "colab_type": "code",
        "colab": {
          "base_uri": "https://localhost:8080/",
          "height": 34
        },
        "outputId": "d5c7158d-c7c9-4d58-c93a-b5d6ca5cd07c"
      },
      "source": [
        "#tweet dal 01-04-2020 al 08-04-2020\n",
        "df.shape"
      ],
      "execution_count": 6,
      "outputs": [
        {
          "output_type": "execute_result",
          "data": {
            "text/plain": [
              "(3343, 90)"
            ]
          },
          "metadata": {
            "tags": []
          },
          "execution_count": 6
        }
      ]
    },
    {
      "cell_type": "markdown",
      "metadata": {
        "id": "Hqvn0cAKtHid",
        "colab_type": "text"
      },
      "source": [
        "**it_0409.csv**"
      ]
    },
    {
      "cell_type": "code",
      "metadata": {
        "id": "JEWTgXaHtLQp",
        "colab_type": "code",
        "colab": {}
      },
      "source": [
        "df1 = pd.read_csv(\"it_0409.csv\")"
      ],
      "execution_count": 0,
      "outputs": []
    },
    {
      "cell_type": "code",
      "metadata": {
        "id": "gm2JQmU3tPhc",
        "colab_type": "code",
        "colab": {
          "base_uri": "https://localhost:8080/",
          "height": 34
        },
        "outputId": "4ec785d7-afc1-435f-cf6a-ba332c36c90c"
      },
      "source": [
        "df1.shape"
      ],
      "execution_count": 8,
      "outputs": [
        {
          "output_type": "execute_result",
          "data": {
            "text/plain": [
              "(74, 90)"
            ]
          },
          "metadata": {
            "tags": []
          },
          "execution_count": 8
        }
      ]
    },
    {
      "cell_type": "code",
      "metadata": {
        "id": "f0TJtY8LtZW4",
        "colab_type": "code",
        "colab": {}
      },
      "source": [
        "df2 = pd.concat([df, df1], axis=0, join='outer', ignore_index=False, keys=None,\n",
        "          levels=None, names=None, verify_integrity=False, copy=True)"
      ],
      "execution_count": 0,
      "outputs": []
    },
    {
      "cell_type": "code",
      "metadata": {
        "id": "py2EvbYptbCX",
        "colab_type": "code",
        "colab": {
          "base_uri": "https://localhost:8080/",
          "height": 34
        },
        "outputId": "6a9a9bd2-baa5-4460-c450-f8b26dae1ac8"
      },
      "source": [
        "df2.shape"
      ],
      "execution_count": 10,
      "outputs": [
        {
          "output_type": "execute_result",
          "data": {
            "text/plain": [
              "(3417, 90)"
            ]
          },
          "metadata": {
            "tags": []
          },
          "execution_count": 10
        }
      ]
    },
    {
      "cell_type": "markdown",
      "metadata": {
        "id": "kBZNj55UtgTE",
        "colab_type": "text"
      },
      "source": [
        "**it_0410.csv**"
      ]
    },
    {
      "cell_type": "code",
      "metadata": {
        "id": "tnmMDqletkFk",
        "colab_type": "code",
        "colab": {}
      },
      "source": [
        "df3 = pd.read_csv(\"it_0410.csv\")"
      ],
      "execution_count": 0,
      "outputs": []
    },
    {
      "cell_type": "code",
      "metadata": {
        "id": "ZbA3Trfatm4S",
        "colab_type": "code",
        "colab": {
          "base_uri": "https://localhost:8080/",
          "height": 34
        },
        "outputId": "6ad64afc-49f5-4da8-f1ac-d7f1404ad225"
      },
      "source": [
        "df3.shape"
      ],
      "execution_count": 13,
      "outputs": [
        {
          "output_type": "execute_result",
          "data": {
            "text/plain": [
              "(78, 90)"
            ]
          },
          "metadata": {
            "tags": []
          },
          "execution_count": 13
        }
      ]
    },
    {
      "cell_type": "code",
      "metadata": {
        "id": "1QxC1DS8ttY7",
        "colab_type": "code",
        "colab": {}
      },
      "source": [
        "df4 = pd.concat([df2, df3], axis=0, join='outer', ignore_index=False, keys=None,\n",
        "          levels=None, names=None, verify_integrity=False, copy=True)"
      ],
      "execution_count": 0,
      "outputs": []
    },
    {
      "cell_type": "code",
      "metadata": {
        "id": "KMVRihWrtvLG",
        "colab_type": "code",
        "colab": {
          "base_uri": "https://localhost:8080/",
          "height": 34
        },
        "outputId": "2c421921-ce97-4e20-b7ad-ada0a220848c"
      },
      "source": [
        "df4.shape"
      ],
      "execution_count": 15,
      "outputs": [
        {
          "output_type": "execute_result",
          "data": {
            "text/plain": [
              "(3495, 90)"
            ]
          },
          "metadata": {
            "tags": []
          },
          "execution_count": 15
        }
      ]
    },
    {
      "cell_type": "markdown",
      "metadata": {
        "id": "muVKApvJtyyl",
        "colab_type": "text"
      },
      "source": [
        "**it_0411.csv**"
      ]
    },
    {
      "cell_type": "code",
      "metadata": {
        "id": "b2YijrC_t28P",
        "colab_type": "code",
        "colab": {}
      },
      "source": [
        "df5 = pd.read_csv(\"it_0411.csv\")"
      ],
      "execution_count": 0,
      "outputs": []
    },
    {
      "cell_type": "code",
      "metadata": {
        "id": "QdIzMK74t5mZ",
        "colab_type": "code",
        "colab": {
          "base_uri": "https://localhost:8080/",
          "height": 34
        },
        "outputId": "7df39381-146c-46a7-a2a3-1798ac431a6b"
      },
      "source": [
        "df5.shape"
      ],
      "execution_count": 18,
      "outputs": [
        {
          "output_type": "execute_result",
          "data": {
            "text/plain": [
              "(70, 90)"
            ]
          },
          "metadata": {
            "tags": []
          },
          "execution_count": 18
        }
      ]
    },
    {
      "cell_type": "code",
      "metadata": {
        "id": "R9epdmhit80d",
        "colab_type": "code",
        "colab": {}
      },
      "source": [
        "df6 = pd.concat([df4, df5], axis=0, join='outer', ignore_index=False, keys=None,\n",
        "          levels=None, names=None, verify_integrity=False, copy=True)"
      ],
      "execution_count": 0,
      "outputs": []
    },
    {
      "cell_type": "code",
      "metadata": {
        "id": "CUAEeXrHt-uO",
        "colab_type": "code",
        "colab": {
          "base_uri": "https://localhost:8080/",
          "height": 34
        },
        "outputId": "c34592f2-adfb-4291-9505-98c714dc4b9a"
      },
      "source": [
        "df6.shape"
      ],
      "execution_count": 20,
      "outputs": [
        {
          "output_type": "execute_result",
          "data": {
            "text/plain": [
              "(3565, 90)"
            ]
          },
          "metadata": {
            "tags": []
          },
          "execution_count": 20
        }
      ]
    },
    {
      "cell_type": "markdown",
      "metadata": {
        "id": "nSFQl8V8uCqP",
        "colab_type": "text"
      },
      "source": [
        "**it_0412.csv**"
      ]
    },
    {
      "cell_type": "code",
      "metadata": {
        "id": "R6QMV_m5uGvQ",
        "colab_type": "code",
        "colab": {}
      },
      "source": [
        "df7 = pd.read_csv(\"it_0412.csv\")"
      ],
      "execution_count": 0,
      "outputs": []
    },
    {
      "cell_type": "code",
      "metadata": {
        "id": "JJJk7EqKuJnb",
        "colab_type": "code",
        "colab": {
          "base_uri": "https://localhost:8080/",
          "height": 34
        },
        "outputId": "109d5b5a-9831-47fa-9a60-446dc557a263"
      },
      "source": [
        "df7.shape"
      ],
      "execution_count": 23,
      "outputs": [
        {
          "output_type": "execute_result",
          "data": {
            "text/plain": [
              "(83, 90)"
            ]
          },
          "metadata": {
            "tags": []
          },
          "execution_count": 23
        }
      ]
    },
    {
      "cell_type": "code",
      "metadata": {
        "id": "znXvfm-OuLt4",
        "colab_type": "code",
        "colab": {}
      },
      "source": [
        "df8 = pd.concat([df6, df7], axis=0, join='outer', ignore_index=False, keys=None,\n",
        "          levels=None, names=None, verify_integrity=False, copy=True)"
      ],
      "execution_count": 0,
      "outputs": []
    },
    {
      "cell_type": "code",
      "metadata": {
        "id": "jepQyNKeuNZU",
        "colab_type": "code",
        "colab": {
          "base_uri": "https://localhost:8080/",
          "height": 34
        },
        "outputId": "28e43767-e299-406e-d24c-1d14bd5787e5"
      },
      "source": [
        "df8.shape"
      ],
      "execution_count": 25,
      "outputs": [
        {
          "output_type": "execute_result",
          "data": {
            "text/plain": [
              "(3648, 90)"
            ]
          },
          "metadata": {
            "tags": []
          },
          "execution_count": 25
        }
      ]
    },
    {
      "cell_type": "markdown",
      "metadata": {
        "id": "OSQP0JCSuQVo",
        "colab_type": "text"
      },
      "source": [
        "**it_0413.csv**"
      ]
    },
    {
      "cell_type": "code",
      "metadata": {
        "id": "oMkgmMOguUx1",
        "colab_type": "code",
        "colab": {}
      },
      "source": [
        "df9 = pd.read_csv(\"it_0413.csv\")"
      ],
      "execution_count": 0,
      "outputs": []
    },
    {
      "cell_type": "code",
      "metadata": {
        "id": "F6lc5TwPuXWb",
        "colab_type": "code",
        "colab": {
          "base_uri": "https://localhost:8080/",
          "height": 34
        },
        "outputId": "b68a16d4-b2f0-4d3b-8793-0e02d5e05909"
      },
      "source": [
        "df9.shape"
      ],
      "execution_count": 28,
      "outputs": [
        {
          "output_type": "execute_result",
          "data": {
            "text/plain": [
              "(134, 90)"
            ]
          },
          "metadata": {
            "tags": []
          },
          "execution_count": 28
        }
      ]
    },
    {
      "cell_type": "code",
      "metadata": {
        "id": "KLx3uHmwuajG",
        "colab_type": "code",
        "colab": {}
      },
      "source": [
        "df10 = pd.concat([df8, df9], axis=0, join='outer', ignore_index=False, keys=None,\n",
        "          levels=None, names=None, verify_integrity=False, copy=True)"
      ],
      "execution_count": 0,
      "outputs": []
    },
    {
      "cell_type": "code",
      "metadata": {
        "id": "2eGgL7goubU8",
        "colab_type": "code",
        "colab": {
          "base_uri": "https://localhost:8080/",
          "height": 34
        },
        "outputId": "862c4657-1399-4d4b-d203-8301b0837ca4"
      },
      "source": [
        "df10.shape"
      ],
      "execution_count": 31,
      "outputs": [
        {
          "output_type": "execute_result",
          "data": {
            "text/plain": [
              "(3782, 90)"
            ]
          },
          "metadata": {
            "tags": []
          },
          "execution_count": 31
        }
      ]
    },
    {
      "cell_type": "markdown",
      "metadata": {
        "id": "nfwb4874ugEX",
        "colab_type": "text"
      },
      "source": [
        "**it_0414.csv**"
      ]
    },
    {
      "cell_type": "code",
      "metadata": {
        "id": "ase2usLDuk-K",
        "colab_type": "code",
        "colab": {}
      },
      "source": [
        "df11 = pd.read_csv(\"it_0414.csv\")"
      ],
      "execution_count": 0,
      "outputs": []
    },
    {
      "cell_type": "code",
      "metadata": {
        "id": "2xY6EX2hunmJ",
        "colab_type": "code",
        "colab": {
          "base_uri": "https://localhost:8080/",
          "height": 34
        },
        "outputId": "5e14fc10-257a-4dc4-c238-98e2c814bd77"
      },
      "source": [
        "df11.shape"
      ],
      "execution_count": 34,
      "outputs": [
        {
          "output_type": "execute_result",
          "data": {
            "text/plain": [
              "(88, 90)"
            ]
          },
          "metadata": {
            "tags": []
          },
          "execution_count": 34
        }
      ]
    },
    {
      "cell_type": "code",
      "metadata": {
        "id": "HM733-WjuobD",
        "colab_type": "code",
        "colab": {}
      },
      "source": [
        "df12 = pd.concat([df10, df11], axis=0, join='outer', ignore_index=False, keys=None,\n",
        "          levels=None, names=None, verify_integrity=False, copy=True)"
      ],
      "execution_count": 0,
      "outputs": []
    },
    {
      "cell_type": "code",
      "metadata": {
        "id": "DlYiHuAQurHL",
        "colab_type": "code",
        "colab": {
          "base_uri": "https://localhost:8080/",
          "height": 34
        },
        "outputId": "a3cd868a-8e18-4585-e227-21aebcc07427"
      },
      "source": [
        "df12.shape"
      ],
      "execution_count": 36,
      "outputs": [
        {
          "output_type": "execute_result",
          "data": {
            "text/plain": [
              "(3870, 90)"
            ]
          },
          "metadata": {
            "tags": []
          },
          "execution_count": 36
        }
      ]
    },
    {
      "cell_type": "markdown",
      "metadata": {
        "id": "2910tq-8uuor",
        "colab_type": "text"
      },
      "source": [
        "**it_0415.csv**"
      ]
    },
    {
      "cell_type": "code",
      "metadata": {
        "id": "xETFQUgWuy7-",
        "colab_type": "code",
        "colab": {}
      },
      "source": [
        "df13 = pd.read_csv(\"it_0415.csv\")"
      ],
      "execution_count": 0,
      "outputs": []
    },
    {
      "cell_type": "code",
      "metadata": {
        "id": "UnLJ6HuUu1XL",
        "colab_type": "code",
        "colab": {
          "base_uri": "https://localhost:8080/",
          "height": 34
        },
        "outputId": "0863c9db-dee4-42fb-efab-2681d0604f50"
      },
      "source": [
        "df13.shape"
      ],
      "execution_count": 39,
      "outputs": [
        {
          "output_type": "execute_result",
          "data": {
            "text/plain": [
              "(81, 90)"
            ]
          },
          "metadata": {
            "tags": []
          },
          "execution_count": 39
        }
      ]
    },
    {
      "cell_type": "code",
      "metadata": {
        "id": "LucJZ-1pu36R",
        "colab_type": "code",
        "colab": {}
      },
      "source": [
        "df14 = pd.concat([df12, df13], axis=0, join='outer', ignore_index=False, keys=None,\n",
        "          levels=None, names=None, verify_integrity=False, copy=True)"
      ],
      "execution_count": 0,
      "outputs": []
    },
    {
      "cell_type": "code",
      "metadata": {
        "id": "naHjOX4mu5mF",
        "colab_type": "code",
        "colab": {
          "base_uri": "https://localhost:8080/",
          "height": 34
        },
        "outputId": "0bb71f28-551f-4f1f-fe48-6e56b3341952"
      },
      "source": [
        "df14.shape"
      ],
      "execution_count": 41,
      "outputs": [
        {
          "output_type": "execute_result",
          "data": {
            "text/plain": [
              "(3951, 90)"
            ]
          },
          "metadata": {
            "tags": []
          },
          "execution_count": 41
        }
      ]
    },
    {
      "cell_type": "markdown",
      "metadata": {
        "id": "WwtYFeILu8tU",
        "colab_type": "text"
      },
      "source": [
        "**it_0416**"
      ]
    },
    {
      "cell_type": "code",
      "metadata": {
        "id": "YLLb5Ns5vAc5",
        "colab_type": "code",
        "colab": {}
      },
      "source": [
        "df15 = pd.read_csv(\"it_0416.csv\")"
      ],
      "execution_count": 0,
      "outputs": []
    },
    {
      "cell_type": "code",
      "metadata": {
        "id": "NaytzzfEvC_R",
        "colab_type": "code",
        "colab": {
          "base_uri": "https://localhost:8080/",
          "height": 34
        },
        "outputId": "f37d5529-3330-4f11-d705-04ba5b0f368a"
      },
      "source": [
        "df15.shape"
      ],
      "execution_count": 44,
      "outputs": [
        {
          "output_type": "execute_result",
          "data": {
            "text/plain": [
              "(59, 90)"
            ]
          },
          "metadata": {
            "tags": []
          },
          "execution_count": 44
        }
      ]
    },
    {
      "cell_type": "code",
      "metadata": {
        "id": "zrqkOToUvE39",
        "colab_type": "code",
        "colab": {}
      },
      "source": [
        "df16 = pd.concat([df14, df15], axis=0, join='outer', ignore_index=False, keys=None,\n",
        "          levels=None, names=None, verify_integrity=False, copy=True)"
      ],
      "execution_count": 0,
      "outputs": []
    },
    {
      "cell_type": "code",
      "metadata": {
        "id": "aN1GLmF6vFuA",
        "colab_type": "code",
        "colab": {
          "base_uri": "https://localhost:8080/",
          "height": 34
        },
        "outputId": "b291d080-b16f-43dd-f98a-471b0882b054"
      },
      "source": [
        "df16.shape"
      ],
      "execution_count": 46,
      "outputs": [
        {
          "output_type": "execute_result",
          "data": {
            "text/plain": [
              "(4010, 90)"
            ]
          },
          "metadata": {
            "tags": []
          },
          "execution_count": 46
        }
      ]
    },
    {
      "cell_type": "markdown",
      "metadata": {
        "id": "4Tx0K45tvKD7",
        "colab_type": "text"
      },
      "source": [
        "**it_1722.csv**"
      ]
    },
    {
      "cell_type": "code",
      "metadata": {
        "id": "bz8WEJ2RvOOu",
        "colab_type": "code",
        "colab": {}
      },
      "source": [
        "df17 = pd.read_csv(\"it_1722.csv\")"
      ],
      "execution_count": 0,
      "outputs": []
    },
    {
      "cell_type": "code",
      "metadata": {
        "id": "dql33O3wvQrX",
        "colab_type": "code",
        "colab": {
          "base_uri": "https://localhost:8080/",
          "height": 34
        },
        "outputId": "0373cb41-8682-4dd8-8fd3-d45699323141"
      },
      "source": [
        "df17.shape"
      ],
      "execution_count": 49,
      "outputs": [
        {
          "output_type": "execute_result",
          "data": {
            "text/plain": [
              "(216, 90)"
            ]
          },
          "metadata": {
            "tags": []
          },
          "execution_count": 49
        }
      ]
    },
    {
      "cell_type": "code",
      "metadata": {
        "id": "cgJxgXBKvTGe",
        "colab_type": "code",
        "colab": {}
      },
      "source": [
        "tweet_it = pd.concat([df16, df17], axis=0, join='outer', ignore_index=False, keys=None,\n",
        "          levels=None, names=None, verify_integrity=False, copy=True)"
      ],
      "execution_count": 0,
      "outputs": []
    },
    {
      "cell_type": "code",
      "metadata": {
        "id": "6MQNNhNxvWrf",
        "colab_type": "code",
        "colab": {
          "base_uri": "https://localhost:8080/",
          "height": 34
        },
        "outputId": "4f33c971-5894-4ddb-e379-1d2f767fc11a"
      },
      "source": [
        "tweet_it.shape"
      ],
      "execution_count": 51,
      "outputs": [
        {
          "output_type": "execute_result",
          "data": {
            "text/plain": [
              "(4226, 90)"
            ]
          },
          "metadata": {
            "tags": []
          },
          "execution_count": 51
        }
      ]
    },
    {
      "cell_type": "code",
      "metadata": {
        "id": "gZOkrZgpvYZH",
        "colab_type": "code",
        "colab": {
          "base_uri": "https://localhost:8080/",
          "height": 34
        },
        "outputId": "9b4ece68-90db-46cf-8036-ef2ccc794e84"
      },
      "source": [
        "4010+216"
      ],
      "execution_count": 52,
      "outputs": [
        {
          "output_type": "execute_result",
          "data": {
            "text/plain": [
              "4226"
            ]
          },
          "metadata": {
            "tags": []
          },
          "execution_count": 52
        }
      ]
    },
    {
      "cell_type": "code",
      "metadata": {
        "id": "kupuEPXOvhK_",
        "colab_type": "code",
        "colab": {}
      },
      "source": [
        "tweet_it = tweet_it.reset_index(drop=True)"
      ],
      "execution_count": 0,
      "outputs": []
    },
    {
      "cell_type": "code",
      "metadata": {
        "id": "VXr7T_6EvkLf",
        "colab_type": "code",
        "colab": {
          "base_uri": "https://localhost:8080/",
          "height": 34
        },
        "outputId": "724fe519-070e-49a8-87d2-fca3c5630bbd"
      },
      "source": [
        "tweet_it.shape"
      ],
      "execution_count": 54,
      "outputs": [
        {
          "output_type": "execute_result",
          "data": {
            "text/plain": [
              "(4226, 90)"
            ]
          },
          "metadata": {
            "tags": []
          },
          "execution_count": 54
        }
      ]
    },
    {
      "cell_type": "code",
      "metadata": {
        "id": "U24Y771wvnIu",
        "colab_type": "code",
        "colab": {
          "base_uri": "https://localhost:8080/",
          "height": 508
        },
        "outputId": "4e5050e1-0a1d-466d-9ba4-e530fefe42fa"
      },
      "source": [
        "tweet_it.tail()"
      ],
      "execution_count": 55,
      "outputs": [
        {
          "output_type": "execute_result",
          "data": {
            "text/html": [
              "<div>\n",
              "<style scoped>\n",
              "    .dataframe tbody tr th:only-of-type {\n",
              "        vertical-align: middle;\n",
              "    }\n",
              "\n",
              "    .dataframe tbody tr th {\n",
              "        vertical-align: top;\n",
              "    }\n",
              "\n",
              "    .dataframe thead th {\n",
              "        text-align: right;\n",
              "    }\n",
              "</style>\n",
              "<table border=\"1\" class=\"dataframe\">\n",
              "  <thead>\n",
              "    <tr style=\"text-align: right;\">\n",
              "      <th></th>\n",
              "      <th>user_id</th>\n",
              "      <th>status_id</th>\n",
              "      <th>created_at</th>\n",
              "      <th>screen_name</th>\n",
              "      <th>text</th>\n",
              "      <th>source</th>\n",
              "      <th>display_text_width</th>\n",
              "      <th>reply_to_status_id</th>\n",
              "      <th>reply_to_user_id</th>\n",
              "      <th>reply_to_screen_name</th>\n",
              "      <th>is_quote</th>\n",
              "      <th>is_retweet</th>\n",
              "      <th>favorite_count</th>\n",
              "      <th>retweet_count</th>\n",
              "      <th>quote_count</th>\n",
              "      <th>reply_count</th>\n",
              "      <th>hashtags</th>\n",
              "      <th>symbols</th>\n",
              "      <th>urls_url</th>\n",
              "      <th>urls_t.co</th>\n",
              "      <th>urls_expanded_url</th>\n",
              "      <th>media_url</th>\n",
              "      <th>media_t.co</th>\n",
              "      <th>media_expanded_url</th>\n",
              "      <th>media_type</th>\n",
              "      <th>ext_media_url</th>\n",
              "      <th>ext_media_t.co</th>\n",
              "      <th>ext_media_expanded_url</th>\n",
              "      <th>ext_media_type</th>\n",
              "      <th>mentions_user_id</th>\n",
              "      <th>mentions_screen_name</th>\n",
              "      <th>lang</th>\n",
              "      <th>quoted_status_id</th>\n",
              "      <th>quoted_text</th>\n",
              "      <th>quoted_created_at</th>\n",
              "      <th>quoted_source</th>\n",
              "      <th>quoted_favorite_count</th>\n",
              "      <th>quoted_retweet_count</th>\n",
              "      <th>quoted_user_id</th>\n",
              "      <th>quoted_screen_name</th>\n",
              "      <th>...</th>\n",
              "      <th>retweet_source</th>\n",
              "      <th>retweet_favorite_count</th>\n",
              "      <th>retweet_retweet_count</th>\n",
              "      <th>retweet_user_id</th>\n",
              "      <th>retweet_screen_name</th>\n",
              "      <th>retweet_name</th>\n",
              "      <th>retweet_followers_count</th>\n",
              "      <th>retweet_friends_count</th>\n",
              "      <th>retweet_statuses_count</th>\n",
              "      <th>retweet_location</th>\n",
              "      <th>retweet_description</th>\n",
              "      <th>retweet_verified</th>\n",
              "      <th>place_url</th>\n",
              "      <th>place_name</th>\n",
              "      <th>place_full_name</th>\n",
              "      <th>place_type</th>\n",
              "      <th>country</th>\n",
              "      <th>country_code</th>\n",
              "      <th>geo_coords</th>\n",
              "      <th>coords_coords</th>\n",
              "      <th>bbox_coords</th>\n",
              "      <th>status_url</th>\n",
              "      <th>name</th>\n",
              "      <th>location</th>\n",
              "      <th>description</th>\n",
              "      <th>url</th>\n",
              "      <th>protected</th>\n",
              "      <th>followers_count</th>\n",
              "      <th>friends_count</th>\n",
              "      <th>listed_count</th>\n",
              "      <th>statuses_count</th>\n",
              "      <th>favourites_count</th>\n",
              "      <th>account_created_at</th>\n",
              "      <th>verified</th>\n",
              "      <th>profile_url</th>\n",
              "      <th>profile_expanded_url</th>\n",
              "      <th>account_lang</th>\n",
              "      <th>profile_banner_url</th>\n",
              "      <th>profile_background_url</th>\n",
              "      <th>profile_image_url</th>\n",
              "    </tr>\n",
              "  </thead>\n",
              "  <tbody>\n",
              "    <tr>\n",
              "      <th>4221</th>\n",
              "      <td>x910720558383460352</td>\n",
              "      <td>x1250969204704100360</td>\n",
              "      <td>2020-04-17 02:07:54</td>\n",
              "      <td>ADBTWT</td>\n",
              "      <td>Se al posto di Tokyo vi avessero messo Daniela...</td>\n",
              "      <td>Twitter for Android</td>\n",
              "      <td>106</td>\n",
              "      <td>NaN</td>\n",
              "      <td>NaN</td>\n",
              "      <td>NaN</td>\n",
              "      <td>False</td>\n",
              "      <td>False</td>\n",
              "      <td>0</td>\n",
              "      <td>0</td>\n",
              "      <td>NaN</td>\n",
              "      <td>NaN</td>\n",
              "      <td>LaCasaDePapel</td>\n",
              "      <td>NaN</td>\n",
              "      <td>NaN</td>\n",
              "      <td>NaN</td>\n",
              "      <td>NaN</td>\n",
              "      <td>NaN</td>\n",
              "      <td>NaN</td>\n",
              "      <td>NaN</td>\n",
              "      <td>NaN</td>\n",
              "      <td>NaN</td>\n",
              "      <td>NaN</td>\n",
              "      <td>NaN</td>\n",
              "      <td>NaN</td>\n",
              "      <td>NaN</td>\n",
              "      <td>NaN</td>\n",
              "      <td>it</td>\n",
              "      <td>NaN</td>\n",
              "      <td>NaN</td>\n",
              "      <td>NaN</td>\n",
              "      <td>NaN</td>\n",
              "      <td>NaN</td>\n",
              "      <td>NaN</td>\n",
              "      <td>NaN</td>\n",
              "      <td>NaN</td>\n",
              "      <td>...</td>\n",
              "      <td>NaN</td>\n",
              "      <td>NaN</td>\n",
              "      <td>NaN</td>\n",
              "      <td>NaN</td>\n",
              "      <td>NaN</td>\n",
              "      <td>NaN</td>\n",
              "      <td>NaN</td>\n",
              "      <td>NaN</td>\n",
              "      <td>NaN</td>\n",
              "      <td>NaN</td>\n",
              "      <td>NaN</td>\n",
              "      <td>NaN</td>\n",
              "      <td>NaN</td>\n",
              "      <td>NaN</td>\n",
              "      <td>NaN</td>\n",
              "      <td>NaN</td>\n",
              "      <td>NaN</td>\n",
              "      <td>NaN</td>\n",
              "      <td>NA NA</td>\n",
              "      <td>NA NA</td>\n",
              "      <td>NA NA NA NA NA NA NA NA</td>\n",
              "      <td>https://twitter.com/ADBTWT/status/125096920470...</td>\n",
              "      <td>Phlebas</td>\n",
              "      <td>NaN</td>\n",
              "      <td>There is a light that never goes out</td>\n",
              "      <td>NaN</td>\n",
              "      <td>False</td>\n",
              "      <td>33</td>\n",
              "      <td>180</td>\n",
              "      <td>0</td>\n",
              "      <td>1546</td>\n",
              "      <td>2512</td>\n",
              "      <td>2017-09-21 04:21:16</td>\n",
              "      <td>False</td>\n",
              "      <td>NaN</td>\n",
              "      <td>NaN</td>\n",
              "      <td>NaN</td>\n",
              "      <td>https://pbs.twimg.com/profile_banners/91072055...</td>\n",
              "      <td>http://abs.twimg.com/images/themes/theme1/bg.png</td>\n",
              "      <td>http://pbs.twimg.com/profile_images/1038113678...</td>\n",
              "    </tr>\n",
              "    <tr>\n",
              "      <th>4222</th>\n",
              "      <td>x1002072721004445696</td>\n",
              "      <td>x1250943529125208064</td>\n",
              "      <td>2020-04-17 00:25:53</td>\n",
              "      <td>The_Meym_Tham</td>\n",
              "      <td>&lt;U+0001D5D6&gt;&lt;U+0001D5DC&gt;&lt;U+0001D5D4&gt;&lt;U+0001D5E...</td>\n",
              "      <td>Twitter for Android</td>\n",
              "      <td>52</td>\n",
              "      <td>NaN</td>\n",
              "      <td>NaN</td>\n",
              "      <td>NaN</td>\n",
              "      <td>False</td>\n",
              "      <td>False</td>\n",
              "      <td>0</td>\n",
              "      <td>0</td>\n",
              "      <td>NaN</td>\n",
              "      <td>NaN</td>\n",
              "      <td>&lt;U+0001D5E5&gt;&lt;U+0001D5DC&gt;&lt;U+0001D5E2&gt; &lt;U+0001D5...</td>\n",
              "      <td>NaN</td>\n",
              "      <td>NaN</td>\n",
              "      <td>NaN</td>\n",
              "      <td>NaN</td>\n",
              "      <td>http://pbs.twimg.com/ext_tw_video_thumb/125094...</td>\n",
              "      <td>https://t.co/HHPQ2dX9N8</td>\n",
              "      <td>https://twitter.com/The_Meym_Tham/status/12509...</td>\n",
              "      <td>photo</td>\n",
              "      <td>http://pbs.twimg.com/ext_tw_video_thumb/125094...</td>\n",
              "      <td>https://t.co/HHPQ2dX9N8</td>\n",
              "      <td>https://twitter.com/The_Meym_Tham/status/12509...</td>\n",
              "      <td>NaN</td>\n",
              "      <td>NaN</td>\n",
              "      <td>NaN</td>\n",
              "      <td>it</td>\n",
              "      <td>NaN</td>\n",
              "      <td>NaN</td>\n",
              "      <td>NaN</td>\n",
              "      <td>NaN</td>\n",
              "      <td>NaN</td>\n",
              "      <td>NaN</td>\n",
              "      <td>NaN</td>\n",
              "      <td>NaN</td>\n",
              "      <td>...</td>\n",
              "      <td>NaN</td>\n",
              "      <td>NaN</td>\n",
              "      <td>NaN</td>\n",
              "      <td>NaN</td>\n",
              "      <td>NaN</td>\n",
              "      <td>NaN</td>\n",
              "      <td>NaN</td>\n",
              "      <td>NaN</td>\n",
              "      <td>NaN</td>\n",
              "      <td>NaN</td>\n",
              "      <td>NaN</td>\n",
              "      <td>NaN</td>\n",
              "      <td>NaN</td>\n",
              "      <td>NaN</td>\n",
              "      <td>NaN</td>\n",
              "      <td>NaN</td>\n",
              "      <td>NaN</td>\n",
              "      <td>NaN</td>\n",
              "      <td>NA NA</td>\n",
              "      <td>NA NA</td>\n",
              "      <td>NA NA NA NA NA NA NA NA</td>\n",
              "      <td>https://twitter.com/The_Meym_Tham/status/12509...</td>\n",
              "      <td>THE_MEYM_THAM</td>\n",
              "      <td>Cebu City, Central Visayas</td>\n",
              "      <td>&lt;U+0001D687&gt;1\\r\\n&lt;U+0001D686&gt;&lt;U+0001D67E&gt;&lt;U+00...</td>\n",
              "      <td>https://t.co/Q5nDI83p8a</td>\n",
              "      <td>False</td>\n",
              "      <td>43</td>\n",
              "      <td>155</td>\n",
              "      <td>0</td>\n",
              "      <td>145</td>\n",
              "      <td>138</td>\n",
              "      <td>2018-05-31 06:22:09</td>\n",
              "      <td>False</td>\n",
              "      <td>https://t.co/Q5nDI83p8a</td>\n",
              "      <td>http://instagram.com/meym_tham</td>\n",
              "      <td>NaN</td>\n",
              "      <td>https://pbs.twimg.com/profile_banners/10020727...</td>\n",
              "      <td>NaN</td>\n",
              "      <td>http://pbs.twimg.com/profile_images/1248558478...</td>\n",
              "    </tr>\n",
              "    <tr>\n",
              "      <th>4223</th>\n",
              "      <td>x1002072721004445696</td>\n",
              "      <td>x1250943529125208064</td>\n",
              "      <td>2020-04-17 00:25:53</td>\n",
              "      <td>The_Meym_Tham</td>\n",
              "      <td>&lt;U+0001D5D6&gt;&lt;U+0001D5DC&gt;&lt;U+0001D5D4&gt;&lt;U+0001D5E...</td>\n",
              "      <td>Twitter for Android</td>\n",
              "      <td>52</td>\n",
              "      <td>NaN</td>\n",
              "      <td>NaN</td>\n",
              "      <td>NaN</td>\n",
              "      <td>False</td>\n",
              "      <td>False</td>\n",
              "      <td>0</td>\n",
              "      <td>0</td>\n",
              "      <td>NaN</td>\n",
              "      <td>NaN</td>\n",
              "      <td>&lt;U+0001D5E5&gt;&lt;U+0001D5DC&gt;&lt;U+0001D5E2&gt; &lt;U+0001D5...</td>\n",
              "      <td>NaN</td>\n",
              "      <td>NaN</td>\n",
              "      <td>NaN</td>\n",
              "      <td>NaN</td>\n",
              "      <td>http://pbs.twimg.com/ext_tw_video_thumb/125094...</td>\n",
              "      <td>https://t.co/HHPQ2dX9N8</td>\n",
              "      <td>https://twitter.com/The_Meym_Tham/status/12509...</td>\n",
              "      <td>photo</td>\n",
              "      <td>http://pbs.twimg.com/ext_tw_video_thumb/125094...</td>\n",
              "      <td>https://t.co/HHPQ2dX9N8</td>\n",
              "      <td>https://twitter.com/The_Meym_Tham/status/12509...</td>\n",
              "      <td>NaN</td>\n",
              "      <td>NaN</td>\n",
              "      <td>NaN</td>\n",
              "      <td>it</td>\n",
              "      <td>NaN</td>\n",
              "      <td>NaN</td>\n",
              "      <td>NaN</td>\n",
              "      <td>NaN</td>\n",
              "      <td>NaN</td>\n",
              "      <td>NaN</td>\n",
              "      <td>NaN</td>\n",
              "      <td>NaN</td>\n",
              "      <td>...</td>\n",
              "      <td>NaN</td>\n",
              "      <td>NaN</td>\n",
              "      <td>NaN</td>\n",
              "      <td>NaN</td>\n",
              "      <td>NaN</td>\n",
              "      <td>NaN</td>\n",
              "      <td>NaN</td>\n",
              "      <td>NaN</td>\n",
              "      <td>NaN</td>\n",
              "      <td>NaN</td>\n",
              "      <td>NaN</td>\n",
              "      <td>NaN</td>\n",
              "      <td>NaN</td>\n",
              "      <td>NaN</td>\n",
              "      <td>NaN</td>\n",
              "      <td>NaN</td>\n",
              "      <td>NaN</td>\n",
              "      <td>NaN</td>\n",
              "      <td>NA NA</td>\n",
              "      <td>NA NA</td>\n",
              "      <td>NA NA NA NA NA NA NA NA</td>\n",
              "      <td>https://twitter.com/The_Meym_Tham/status/12509...</td>\n",
              "      <td>THE_MEYM_THAM</td>\n",
              "      <td>Cebu City, Central Visayas</td>\n",
              "      <td>&lt;U+0001D687&gt;1\\r\\n&lt;U+0001D686&gt;&lt;U+0001D67E&gt;&lt;U+00...</td>\n",
              "      <td>https://t.co/Q5nDI83p8a</td>\n",
              "      <td>False</td>\n",
              "      <td>43</td>\n",
              "      <td>155</td>\n",
              "      <td>0</td>\n",
              "      <td>145</td>\n",
              "      <td>138</td>\n",
              "      <td>2018-05-31 06:22:09</td>\n",
              "      <td>False</td>\n",
              "      <td>https://t.co/Q5nDI83p8a</td>\n",
              "      <td>http://instagram.com/meym_tham</td>\n",
              "      <td>NaN</td>\n",
              "      <td>https://pbs.twimg.com/profile_banners/10020727...</td>\n",
              "      <td>NaN</td>\n",
              "      <td>http://pbs.twimg.com/profile_images/1248558478...</td>\n",
              "    </tr>\n",
              "    <tr>\n",
              "      <th>4224</th>\n",
              "      <td>x1475457206</td>\n",
              "      <td>x1250937412487909380</td>\n",
              "      <td>2020-04-17 00:01:35</td>\n",
              "      <td>bimbadidoms</td>\n",
              "      <td>#tiziaparty comunque sono arrivata al sesto ep...</td>\n",
              "      <td>Twitter for Android</td>\n",
              "      <td>95</td>\n",
              "      <td>NaN</td>\n",
              "      <td>NaN</td>\n",
              "      <td>NaN</td>\n",
              "      <td>False</td>\n",
              "      <td>False</td>\n",
              "      <td>0</td>\n",
              "      <td>0</td>\n",
              "      <td>NaN</td>\n",
              "      <td>NaN</td>\n",
              "      <td>tiziaparty LaCasaDePapel</td>\n",
              "      <td>NaN</td>\n",
              "      <td>NaN</td>\n",
              "      <td>NaN</td>\n",
              "      <td>NaN</td>\n",
              "      <td>NaN</td>\n",
              "      <td>NaN</td>\n",
              "      <td>NaN</td>\n",
              "      <td>NaN</td>\n",
              "      <td>NaN</td>\n",
              "      <td>NaN</td>\n",
              "      <td>NaN</td>\n",
              "      <td>NaN</td>\n",
              "      <td>NaN</td>\n",
              "      <td>NaN</td>\n",
              "      <td>it</td>\n",
              "      <td>NaN</td>\n",
              "      <td>NaN</td>\n",
              "      <td>NaN</td>\n",
              "      <td>NaN</td>\n",
              "      <td>NaN</td>\n",
              "      <td>NaN</td>\n",
              "      <td>NaN</td>\n",
              "      <td>NaN</td>\n",
              "      <td>...</td>\n",
              "      <td>NaN</td>\n",
              "      <td>NaN</td>\n",
              "      <td>NaN</td>\n",
              "      <td>NaN</td>\n",
              "      <td>NaN</td>\n",
              "      <td>NaN</td>\n",
              "      <td>NaN</td>\n",
              "      <td>NaN</td>\n",
              "      <td>NaN</td>\n",
              "      <td>NaN</td>\n",
              "      <td>NaN</td>\n",
              "      <td>NaN</td>\n",
              "      <td>NaN</td>\n",
              "      <td>NaN</td>\n",
              "      <td>NaN</td>\n",
              "      <td>NaN</td>\n",
              "      <td>NaN</td>\n",
              "      <td>NaN</td>\n",
              "      <td>NA NA</td>\n",
              "      <td>NA NA</td>\n",
              "      <td>NA NA NA NA NA NA NA NA</td>\n",
              "      <td>https://twitter.com/bimbadidoms/status/1250937...</td>\n",
              "      <td>IT'S MY BDAY +23 &lt;U+0001F49C&gt;&lt;U+0001F308&gt;</td>\n",
              "      <td>NaN</td>\n",
              "      <td>Mi chiedono come siano chiamati gli spazi che ...</td>\n",
              "      <td>NaN</td>\n",
              "      <td>False</td>\n",
              "      <td>1541</td>\n",
              "      <td>2409</td>\n",
              "      <td>9</td>\n",
              "      <td>32597</td>\n",
              "      <td>27387</td>\n",
              "      <td>2013-06-01 19:02:12</td>\n",
              "      <td>False</td>\n",
              "      <td>NaN</td>\n",
              "      <td>NaN</td>\n",
              "      <td>NaN</td>\n",
              "      <td>https://pbs.twimg.com/profile_banners/14754572...</td>\n",
              "      <td>http://abs.twimg.com/images/themes/theme1/bg.png</td>\n",
              "      <td>http://pbs.twimg.com/profile_images/1244757570...</td>\n",
              "    </tr>\n",
              "    <tr>\n",
              "      <th>4225</th>\n",
              "      <td>x1475457206</td>\n",
              "      <td>x1250937412487909380</td>\n",
              "      <td>2020-04-17 00:01:35</td>\n",
              "      <td>bimbadidoms</td>\n",
              "      <td>#tiziaparty comunque sono arrivata al sesto ep...</td>\n",
              "      <td>Twitter for Android</td>\n",
              "      <td>95</td>\n",
              "      <td>NaN</td>\n",
              "      <td>NaN</td>\n",
              "      <td>NaN</td>\n",
              "      <td>False</td>\n",
              "      <td>False</td>\n",
              "      <td>0</td>\n",
              "      <td>0</td>\n",
              "      <td>NaN</td>\n",
              "      <td>NaN</td>\n",
              "      <td>tiziaparty LaCasaDePapel</td>\n",
              "      <td>NaN</td>\n",
              "      <td>NaN</td>\n",
              "      <td>NaN</td>\n",
              "      <td>NaN</td>\n",
              "      <td>NaN</td>\n",
              "      <td>NaN</td>\n",
              "      <td>NaN</td>\n",
              "      <td>NaN</td>\n",
              "      <td>NaN</td>\n",
              "      <td>NaN</td>\n",
              "      <td>NaN</td>\n",
              "      <td>NaN</td>\n",
              "      <td>NaN</td>\n",
              "      <td>NaN</td>\n",
              "      <td>it</td>\n",
              "      <td>NaN</td>\n",
              "      <td>NaN</td>\n",
              "      <td>NaN</td>\n",
              "      <td>NaN</td>\n",
              "      <td>NaN</td>\n",
              "      <td>NaN</td>\n",
              "      <td>NaN</td>\n",
              "      <td>NaN</td>\n",
              "      <td>...</td>\n",
              "      <td>NaN</td>\n",
              "      <td>NaN</td>\n",
              "      <td>NaN</td>\n",
              "      <td>NaN</td>\n",
              "      <td>NaN</td>\n",
              "      <td>NaN</td>\n",
              "      <td>NaN</td>\n",
              "      <td>NaN</td>\n",
              "      <td>NaN</td>\n",
              "      <td>NaN</td>\n",
              "      <td>NaN</td>\n",
              "      <td>NaN</td>\n",
              "      <td>NaN</td>\n",
              "      <td>NaN</td>\n",
              "      <td>NaN</td>\n",
              "      <td>NaN</td>\n",
              "      <td>NaN</td>\n",
              "      <td>NaN</td>\n",
              "      <td>NA NA</td>\n",
              "      <td>NA NA</td>\n",
              "      <td>NA NA NA NA NA NA NA NA</td>\n",
              "      <td>https://twitter.com/bimbadidoms/status/1250937...</td>\n",
              "      <td>IT'S MY BDAY +23 &lt;U+0001F49C&gt;&lt;U+0001F308&gt;</td>\n",
              "      <td>NaN</td>\n",
              "      <td>Mi chiedono come siano chiamati gli spazi che ...</td>\n",
              "      <td>NaN</td>\n",
              "      <td>False</td>\n",
              "      <td>1541</td>\n",
              "      <td>2409</td>\n",
              "      <td>9</td>\n",
              "      <td>32597</td>\n",
              "      <td>27387</td>\n",
              "      <td>2013-06-01 19:02:12</td>\n",
              "      <td>False</td>\n",
              "      <td>NaN</td>\n",
              "      <td>NaN</td>\n",
              "      <td>NaN</td>\n",
              "      <td>https://pbs.twimg.com/profile_banners/14754572...</td>\n",
              "      <td>http://abs.twimg.com/images/themes/theme1/bg.png</td>\n",
              "      <td>http://pbs.twimg.com/profile_images/1244757570...</td>\n",
              "    </tr>\n",
              "  </tbody>\n",
              "</table>\n",
              "<p>5 rows × 90 columns</p>\n",
              "</div>"
            ],
            "text/plain": [
              "                   user_id  ...                                  profile_image_url\n",
              "4221   x910720558383460352  ...  http://pbs.twimg.com/profile_images/1038113678...\n",
              "4222  x1002072721004445696  ...  http://pbs.twimg.com/profile_images/1248558478...\n",
              "4223  x1002072721004445696  ...  http://pbs.twimg.com/profile_images/1248558478...\n",
              "4224           x1475457206  ...  http://pbs.twimg.com/profile_images/1244757570...\n",
              "4225           x1475457206  ...  http://pbs.twimg.com/profile_images/1244757570...\n",
              "\n",
              "[5 rows x 90 columns]"
            ]
          },
          "metadata": {
            "tags": []
          },
          "execution_count": 55
        }
      ]
    },
    {
      "cell_type": "code",
      "metadata": {
        "id": "gMlJQpP9vw35",
        "colab_type": "code",
        "colab": {}
      },
      "source": [
        "prova = tweet_it[['user_id', 'status_id', 'created_at', 'screen_name', 'text', 'source',\n",
        "                  'display_text_width', 'favorite_count', 'retweet_count',\n",
        "                  'hashtags']]"
      ],
      "execution_count": 0,
      "outputs": []
    },
    {
      "cell_type": "code",
      "metadata": {
        "id": "kwS3ZH4JwEyB",
        "colab_type": "code",
        "colab": {
          "base_uri": "https://localhost:8080/",
          "height": 34
        },
        "outputId": "0be9e902-e433-4386-9314-e7ff6a0ea050"
      },
      "source": [
        "prova.shape"
      ],
      "execution_count": 57,
      "outputs": [
        {
          "output_type": "execute_result",
          "data": {
            "text/plain": [
              "(4226, 10)"
            ]
          },
          "metadata": {
            "tags": []
          },
          "execution_count": 57
        }
      ]
    },
    {
      "cell_type": "code",
      "metadata": {
        "id": "gMxf80SpwJFO",
        "colab_type": "code",
        "colab": {}
      },
      "source": [
        "prova.to_csv('tweet_it.csv', index = False, sep = ',')"
      ],
      "execution_count": 0,
      "outputs": []
    },
    {
      "cell_type": "code",
      "metadata": {
        "id": "cwW738bKwM6V",
        "colab_type": "code",
        "colab": {}
      },
      "source": [
        "a = pd.read_csv(\"tweet_it.csv\")"
      ],
      "execution_count": 0,
      "outputs": []
    },
    {
      "cell_type": "code",
      "metadata": {
        "id": "F80VfyQUwYUV",
        "colab_type": "code",
        "colab": {
          "base_uri": "https://localhost:8080/",
          "height": 34
        },
        "outputId": "ffe040d2-fc59-4710-c934-f86780a9bcfe"
      },
      "source": [
        "a.shape"
      ],
      "execution_count": 60,
      "outputs": [
        {
          "output_type": "execute_result",
          "data": {
            "text/plain": [
              "(4226, 10)"
            ]
          },
          "metadata": {
            "tags": []
          },
          "execution_count": 60
        }
      ]
    },
    {
      "cell_type": "code",
      "metadata": {
        "id": "tGm5VXvuwa4S",
        "colab_type": "code",
        "colab": {
          "base_uri": "https://localhost:8080/",
          "height": 787
        },
        "outputId": "3450fb4e-0cec-4cb9-bf09-5f65da9a0398"
      },
      "source": [
        "a.tail(10)"
      ],
      "execution_count": 62,
      "outputs": [
        {
          "output_type": "execute_result",
          "data": {
            "text/html": [
              "<div>\n",
              "<style scoped>\n",
              "    .dataframe tbody tr th:only-of-type {\n",
              "        vertical-align: middle;\n",
              "    }\n",
              "\n",
              "    .dataframe tbody tr th {\n",
              "        vertical-align: top;\n",
              "    }\n",
              "\n",
              "    .dataframe thead th {\n",
              "        text-align: right;\n",
              "    }\n",
              "</style>\n",
              "<table border=\"1\" class=\"dataframe\">\n",
              "  <thead>\n",
              "    <tr style=\"text-align: right;\">\n",
              "      <th></th>\n",
              "      <th>user_id</th>\n",
              "      <th>status_id</th>\n",
              "      <th>created_at</th>\n",
              "      <th>screen_name</th>\n",
              "      <th>text</th>\n",
              "      <th>source</th>\n",
              "      <th>display_text_width</th>\n",
              "      <th>favorite_count</th>\n",
              "      <th>retweet_count</th>\n",
              "      <th>hashtags</th>\n",
              "    </tr>\n",
              "  </thead>\n",
              "  <tbody>\n",
              "    <tr>\n",
              "      <th>4216</th>\n",
              "      <td>x226964193</td>\n",
              "      <td>x1250961961099165696</td>\n",
              "      <td>2020-04-17 01:39:07</td>\n",
              "      <td>Endlessly91</td>\n",
              "      <td>MAI UNA FOTTUTISSIMA GIOIA.\\r\\n#LaCasaDePapel ...</td>\n",
              "      <td>Twitter for Android</td>\n",
              "      <td>57</td>\n",
              "      <td>2</td>\n",
              "      <td>0</td>\n",
              "      <td>LaCasaDePapel LaCasaDiCarta</td>\n",
              "    </tr>\n",
              "    <tr>\n",
              "      <th>4217</th>\n",
              "      <td>x1173883202454392832</td>\n",
              "      <td>x1251062661007147008</td>\n",
              "      <td>2020-04-17 08:19:16</td>\n",
              "      <td>tiinaaamartina</td>\n",
              "      <td>“Mi sono sentita sposata” #denver #LCDP4 #LCDP...</td>\n",
              "      <td>Twitter for iPhone</td>\n",
              "      <td>75</td>\n",
              "      <td>1</td>\n",
              "      <td>0</td>\n",
              "      <td>denver LCDP4 LCDP LaCasaDePapel</td>\n",
              "    </tr>\n",
              "    <tr>\n",
              "      <th>4218</th>\n",
              "      <td>x1250930501436813313</td>\n",
              "      <td>x1251057492357984256</td>\n",
              "      <td>2020-04-17 07:58:44</td>\n",
              "      <td>Samuelebondani1</td>\n",
              "      <td>Oltre alla Casa di carta ci sono numerose seri...</td>\n",
              "      <td>Twitter for iPhone</td>\n",
              "      <td>174</td>\n",
              "      <td>1</td>\n",
              "      <td>0</td>\n",
              "      <td>LaCasaDePapel sondaggio</td>\n",
              "    </tr>\n",
              "    <tr>\n",
              "      <th>4219</th>\n",
              "      <td>x991134955</td>\n",
              "      <td>x1251041092398731264</td>\n",
              "      <td>2020-04-17 06:53:34</td>\n",
              "      <td>morenomarasco</td>\n",
              "      <td>@Dio Come #LaCasaDePapel: #remake senza un po'...</td>\n",
              "      <td>Twitter for Android</td>\n",
              "      <td>280</td>\n",
              "      <td>0</td>\n",
              "      <td>0</td>\n",
              "      <td>LaCasaDePapel remake sangre Tarantino trailer ...</td>\n",
              "    </tr>\n",
              "    <tr>\n",
              "      <th>4220</th>\n",
              "      <td>x1103899557589467136</td>\n",
              "      <td>x1250973366653091841</td>\n",
              "      <td>2020-04-17 02:24:27</td>\n",
              "      <td>EesomeA</td>\n",
              "      <td>Bella ciao\\r\\n#moneyheist #bellaciao #lacasade...</td>\n",
              "      <td>Twitter for Android</td>\n",
              "      <td>120</td>\n",
              "      <td>1</td>\n",
              "      <td>0</td>\n",
              "      <td>moneyheist bellaciao lacasadepapel dali alvaro...</td>\n",
              "    </tr>\n",
              "    <tr>\n",
              "      <th>4221</th>\n",
              "      <td>x910720558383460352</td>\n",
              "      <td>x1250969204704100360</td>\n",
              "      <td>2020-04-17 02:07:54</td>\n",
              "      <td>ADBTWT</td>\n",
              "      <td>Se al posto di Tokyo vi avessero messo Daniela...</td>\n",
              "      <td>Twitter for Android</td>\n",
              "      <td>106</td>\n",
              "      <td>0</td>\n",
              "      <td>0</td>\n",
              "      <td>LaCasaDePapel</td>\n",
              "    </tr>\n",
              "    <tr>\n",
              "      <th>4222</th>\n",
              "      <td>x1002072721004445696</td>\n",
              "      <td>x1250943529125208064</td>\n",
              "      <td>2020-04-17 00:25:53</td>\n",
              "      <td>The_Meym_Tham</td>\n",
              "      <td>&lt;U+0001D5D6&gt;&lt;U+0001D5DC&gt;&lt;U+0001D5D4&gt;&lt;U+0001D5E...</td>\n",
              "      <td>Twitter for Android</td>\n",
              "      <td>52</td>\n",
              "      <td>0</td>\n",
              "      <td>0</td>\n",
              "      <td>&lt;U+0001D5E5&gt;&lt;U+0001D5DC&gt;&lt;U+0001D5E2&gt; &lt;U+0001D5...</td>\n",
              "    </tr>\n",
              "    <tr>\n",
              "      <th>4223</th>\n",
              "      <td>x1002072721004445696</td>\n",
              "      <td>x1250943529125208064</td>\n",
              "      <td>2020-04-17 00:25:53</td>\n",
              "      <td>The_Meym_Tham</td>\n",
              "      <td>&lt;U+0001D5D6&gt;&lt;U+0001D5DC&gt;&lt;U+0001D5D4&gt;&lt;U+0001D5E...</td>\n",
              "      <td>Twitter for Android</td>\n",
              "      <td>52</td>\n",
              "      <td>0</td>\n",
              "      <td>0</td>\n",
              "      <td>&lt;U+0001D5E5&gt;&lt;U+0001D5DC&gt;&lt;U+0001D5E2&gt; &lt;U+0001D5...</td>\n",
              "    </tr>\n",
              "    <tr>\n",
              "      <th>4224</th>\n",
              "      <td>x1475457206</td>\n",
              "      <td>x1250937412487909380</td>\n",
              "      <td>2020-04-17 00:01:35</td>\n",
              "      <td>bimbadidoms</td>\n",
              "      <td>#tiziaparty comunque sono arrivata al sesto ep...</td>\n",
              "      <td>Twitter for Android</td>\n",
              "      <td>95</td>\n",
              "      <td>0</td>\n",
              "      <td>0</td>\n",
              "      <td>tiziaparty LaCasaDePapel</td>\n",
              "    </tr>\n",
              "    <tr>\n",
              "      <th>4225</th>\n",
              "      <td>x1475457206</td>\n",
              "      <td>x1250937412487909380</td>\n",
              "      <td>2020-04-17 00:01:35</td>\n",
              "      <td>bimbadidoms</td>\n",
              "      <td>#tiziaparty comunque sono arrivata al sesto ep...</td>\n",
              "      <td>Twitter for Android</td>\n",
              "      <td>95</td>\n",
              "      <td>0</td>\n",
              "      <td>0</td>\n",
              "      <td>tiziaparty LaCasaDePapel</td>\n",
              "    </tr>\n",
              "  </tbody>\n",
              "</table>\n",
              "</div>"
            ],
            "text/plain": [
              "                   user_id  ...                                           hashtags\n",
              "4216            x226964193  ...                        LaCasaDePapel LaCasaDiCarta\n",
              "4217  x1173883202454392832  ...                    denver LCDP4 LCDP LaCasaDePapel\n",
              "4218  x1250930501436813313  ...                            LaCasaDePapel sondaggio\n",
              "4219            x991134955  ...  LaCasaDePapel remake sangre Tarantino trailer ...\n",
              "4220  x1103899557589467136  ...  moneyheist bellaciao lacasadepapel dali alvaro...\n",
              "4221   x910720558383460352  ...                                      LaCasaDePapel\n",
              "4222  x1002072721004445696  ...  <U+0001D5E5><U+0001D5DC><U+0001D5E2> <U+0001D5...\n",
              "4223  x1002072721004445696  ...  <U+0001D5E5><U+0001D5DC><U+0001D5E2> <U+0001D5...\n",
              "4224           x1475457206  ...                           tiziaparty LaCasaDePapel\n",
              "4225           x1475457206  ...                           tiziaparty LaCasaDePapel\n",
              "\n",
              "[10 rows x 10 columns]"
            ]
          },
          "metadata": {
            "tags": []
          },
          "execution_count": 62
        }
      ]
    }
  ]
}